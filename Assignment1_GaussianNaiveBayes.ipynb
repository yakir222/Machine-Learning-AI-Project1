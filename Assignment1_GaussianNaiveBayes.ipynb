{
 "cells": [
  {
   "cell_type": "markdown",
   "id": "2f343ccb",
   "metadata": {
    "deletable": false,
    "editable": false,
    "nbgrader": {
     "cell_type": "markdown",
     "checksum": "10b9f71d342c4614a5da17337555e667",
     "grade": false,
     "grade_id": "cell-0476411ee6f238cd",
     "locked": true,
     "schema_version": 3,
     "solution": false,
     "task": false
    }
   },
   "source": [
    "<a id=\"home\"></a>\n",
    "## Assignment 1 - Gaussian Naive Bayes implementation\n",
    "In this assignment you will need to implement different functions with a focus on Scaling<br/>\n",
    "\n",
    "<b>Index of functions you need to implement (total possible points: 100)</b>:<br/>\n",
    "\n",
    "| Section | Section-name | points | Section | Section-name | points | Section | Section-name | points | Section | Section-name | points |\n",
    "| :- | :- | :- | :- | :- | :- | :- | :- | :- | :- | :- | :- | \n",
    "| i. | [Review Materials](#review_materials) | | ii. | [Gen. instructions](#gen_instructions) | | 1. | [Import packages](#Imports) | | 2. | [Student info](#student_info) | 5 | \n",
    "| 3. | [Load the dataset](#load_dataset) | 10 | 4.a. | [Calc. class priors](#calc_class_priors) | 10 | 4.b. | [Calc. mean for likelihood](#calc_mean) | 10 | 4.c. | [Calc. std for likelihood](#calc_std) |10 | \n",
    "| 4.d. | [fit (training)](#fit) | 10 | 5.a. | [Calc. PDF](#calc_gaussian_pdf_prob) | | 5.b. | [Calc. a-posterior](#calc_aposterior) | 15 | 5.c. | [predict](#predict) | 20 | \n",
    "| 6. | [Calc. error-rate](#calc_error_rate) | 10 |"
   ]
  },
  {
   "cell_type": "markdown",
   "id": "383a1728",
   "metadata": {
    "deletable": false,
    "editable": false,
    "nbgrader": {
     "cell_type": "markdown",
     "checksum": "746cd606da9801d5b0973bf4dc3623e9",
     "grade": false,
     "grade_id": "cell-4d5b27527a58c74b",
     "locked": true,
     "schema_version": 3,
     "solution": false,
     "task": false
    }
   },
   "source": [
    "<a id=\"review_materials\"></a>\n",
    "### (i) Materials to review for this assignment\n",
    "<h4>From Moodle:</h4> \n",
    "<h5><u>Review the notebooks regarding the following python topics</u>:</h5>\n",
    "<div class=\"alert alert-info\">\n",
    "&#x2714; Brief review: <b>Basic Python</b>.<br/>\n",
    "&#x2714; Brief review: <b>The NumPy module</b><br/>\n",
    "&#x2714; Thorough review: <b>The Pandas module</b> (both parts)<br/>\n",
    "</div> \n",
    "<h5><u>Review the presentations regarding the following topics</u>:</h5>\n",
    "<div class=\"alert alert-info\">\n",
    "&#x2714; <b>The Naive Bayes presentation</b><br/>\n",
    "</div>"
   ]
  },
  {
   "cell_type": "markdown",
   "id": "191ee3c3",
   "metadata": {
    "deletable": false,
    "editable": false,
    "nbgrader": {
     "cell_type": "markdown",
     "checksum": "4f4ce15da09318aee999621f15df8755",
     "grade": false,
     "grade_id": "cell-fbc2eed0dbfda897",
     "locked": true,
     "schema_version": 3,
     "solution": false,
     "task": false
    }
   },
   "source": [
    "[Go to the beginning of the assignment](#home)\n",
    "<a id=\"gen_instructions\"></a>\n",
    "### (ii) General assignment instructions\n",
    "#### Working on the assignment, todo and not todo:\n",
    "<b><u>Todo</u></b>:<br />\n",
    "<div class=\"alert alert-success\">\n",
    "<ul>\n",
    "<li>&#x2714; Use <b> Jupyter Notebook </b>.</li>\n",
    "<li>&#x2714; <b> Work by yourself</b> and submit your own assignment, <b>no pairing</b> to other students</li>\n",
    "<li>&#x2714; Test and save your assignment - <b>submit the last tested and saved version</b></li>\n",
    "<li>&#x2714; Work on the <b>original notebook</b> of the assignment</li>\n",
    "<li>&#x2714; Run the code cells by their original order</li>\n",
    "<li>&#x2714; submit <b>only</b> the <b>notebook (Assignment1_GaussianNaiveBayes.ipynb)</b> file (no name changing)</li></ul>\n",
    "</div>\n",
    "<b><u>Not todo</u></b>:<br />\n",
    "<div class=\"alert alert-danger\">\n",
    "<ul>\n",
    "<li>&#x2718; <b>do NOT use Google Collaboratory</b> </li>\n",
    "<li>&#x2718; do <b>NOT</b> submit an <b>empty assignment</b></li>\n",
    "<li>&#x2718; do <b>NOT submit extra files</b>, <u>unless you're asked to do so</u></li>\n",
    "<li>&#x2718; <b>Do NOT submit a .py/.txt/.rar/.zip (or any non (.ipynb) file)</b> <u>version for the notebook</u> of the assignment</li>\n",
    "<li>&#x2718; <b>do NOT change</b> the notebook file name</li>\n",
    "</ul>\n",
    "</div>"
   ]
  },
  {
   "cell_type": "markdown",
   "id": "6aa8ceee",
   "metadata": {
    "deletable": false,
    "editable": false,
    "nbgrader": {
     "cell_type": "markdown",
     "checksum": "ef612c7e345ef7a43df331c396f83f28",
     "grade": false,
     "grade_id": "cell-4438969cf5134f04",
     "locked": true,
     "schema_version": 3,
     "solution": false,
     "task": false
    }
   },
   "source": [
    "<b>Your implementations are performed in the 'Answer code cell's as following</b>:<br/>\n",
    "<div class=\"alert alert-success\">\n",
    "&#x2714; Your code starts one line after the '<code># YOUR CODE HERE</code>' remark<br/>\n",
    "&#x2714; Implemented code<br/>\n",
    "&#x2714; returned expected value<br/><br/>\n",
    "<b><u>Your code should look like this</u><b>:</div>\n",
    "<code># 5. function_name (your solution)\n",
    "# ====>>> YOUR ACTIONS: IMPLEMENT & RUN \n",
    "\n",
    "def method_to_implement():\n",
    "    # YOUR CODE HERE\n",
    "    your implemented code ...\n",
    "</code>"
   ]
  },
  {
   "cell_type": "markdown",
   "id": "faa8105f",
   "metadata": {
    "deletable": false,
    "editable": false,
    "nbgrader": {
     "cell_type": "markdown",
     "checksum": "b44265987806e28dff66fb7a92eaef73",
     "grade": false,
     "grade_id": "cell-95de7c723d7a7c62",
     "locked": true,
     "schema_version": 3,
     "solution": false,
     "task": false
    }
   },
   "source": [
    "[Go to the beginning of the assignment](#home)\n",
    "<a id=\"Imports\"></a>\n",
    "### 1. import modules (packages)\n",
    "This step is necessary in order to use external modules (packages). <br/>\n",
    "<div class=\"alert alert-success\">\n",
    "&#x2714; Any module or package imported in the following code cell are permitted\n",
    "</div>\n",
    "<div class=\"alert alert-danger\">\n",
    "&#x2718; Any other modules or packages are ILLEGAL\n",
    "</div>\n",
    "\n",
    "##### 1. IMPORT MODULES - Run the following code cell:"
   ]
  },
  {
   "cell_type": "code",
   "execution_count": 1,
   "id": "7d7ac853",
   "metadata": {
    "deletable": false,
    "editable": false,
    "nbgrader": {
     "cell_type": "code",
     "checksum": "bbdd3ae83d9944af6ce73cec3e568caf",
     "grade": false,
     "grade_id": "run_import_packages",
     "locked": true,
     "schema_version": 3,
     "solution": false,
     "task": false
    }
   },
   "outputs": [],
   "source": [
    "# 1. IMPORT MODULES \n",
    "# ====>>> YOUR ACTIONS: RUN ONLY\n",
    "\n",
    "import sys                       # for testing use only\n",
    "import os                        # for testing use only\n",
    "from datetime import datetime    # for testing use only\n",
    "import random                    # for testing use only\n",
    "import hashlib                   # for testing use only\n",
    "import pandas as pd\n",
    "import numpy as np\n",
    "import math \n",
    "import statistics\n",
    "\n",
    "# --------------------------------------\n",
    "# show several outputs in one cell. \n",
    "from IPython.core.interactiveshell import InteractiveShell\n",
    "InteractiveShell.ast_node_interactivity = \"all\"\n",
    "# --------------------------------------"
   ]
  },
  {
   "cell_type": "markdown",
   "id": "b23139c1",
   "metadata": {
    "deletable": false,
    "editable": false,
    "nbgrader": {
     "cell_type": "markdown",
     "checksum": "475e76054864cd4158da93c109cffe02",
     "grade": false,
     "grade_id": "cell-a3503ebfce1254ff",
     "locked": true,
     "schema_version": 3,
     "solution": false,
     "task": false
    }
   },
   "source": [
    "[Go to the beginning of the assignment](#home)\n",
    "<a id=\"student_info\"></a>\n",
    "### 2. Student information\n",
    "##### methods to implement:\n",
    "* my_name\n",
    "* my_id"
   ]
  },
  {
   "cell_type": "markdown",
   "id": "cb00f004",
   "metadata": {
    "deletable": false,
    "editable": false,
    "nbgrader": {
     "cell_type": "markdown",
     "checksum": "a1f88a129ceba1cb2e003fd81dbf84c9",
     "grade": false,
     "grade_id": "cell-e4b1c0f792b55e62",
     "locked": true,
     "schema_version": 3,
     "solution": false,
     "task": false
    }
   },
   "source": [
    "#### 2.a. Function: my_name\n",
    "<a id=\"myName\"></a>\n",
    "Implement the function to return your full name (as a string), for example:<br/>\n",
    "<code>    return 'John Smith'</code>"
   ]
  },
  {
   "cell_type": "markdown",
   "id": "e00981ed",
   "metadata": {},
   "source": [
    "##### 2.a. my_name - YOUR SOLUTION - Implement and Run the following code cell:"
   ]
  },
  {
   "cell_type": "code",
   "execution_count": 2,
   "id": "98f72e33",
   "metadata": {
    "deletable": false,
    "nbgrader": {
     "cell_type": "code",
     "checksum": "ba388a0260ca1794f6f8063464d76354",
     "grade": false,
     "grade_id": "solution2a-my_name",
     "locked": false,
     "schema_version": 3,
     "solution": true,
     "task": false
    }
   },
   "outputs": [],
   "source": [
    "# 2.a. my_name (your solution)\n",
    "# ====>>> YOUR ACTIONS: IMPLEMENT & RUN \n",
    "\n",
    "def my_name():\n",
    "    # YOUR CODE HERE\n",
    "    return \"Netanel Peduim_Yakir Komemi\""
   ]
  },
  {
   "cell_type": "markdown",
   "id": "f5afe059",
   "metadata": {
    "deletable": false,
    "editable": false,
    "nbgrader": {
     "cell_type": "markdown",
     "checksum": "5c27804c0c602cffd13313d7f17700db",
     "grade": false,
     "grade_id": "cell-b58ba5c6654c7ab9",
     "locked": true,
     "schema_version": 3,
     "solution": false,
     "task": false
    }
   },
   "source": [
    "##### 2.a.  my_name - OPTIONAL SELF TEST -  Implement and Run the following code cell (IF NEEDED):"
   ]
  },
  {
   "cell_type": "code",
   "execution_count": 3,
   "id": "451f3f1c",
   "metadata": {
    "deletable": false,
    "nbgrader": {
     "cell_type": "code",
     "checksum": "1bff012ab71de19004c2f9d4580bbff7",
     "grade": false,
     "grade_id": "cell-15667dc5f925d99b",
     "locked": false,
     "schema_version": 3,
     "solution": true,
     "task": false
    }
   },
   "outputs": [],
   "source": [
    "# 2.a. my_name (optional self testing)\n",
    "# ====>>> YOUR ACTIONS: (optional) IMPLEMENT & RUN \n",
    "\n",
    "student_name = my_name()\n",
    "# --- add additional code to check your code if needed:\n",
    "# YOUR CODE HERE\n"
   ]
  },
  {
   "cell_type": "markdown",
   "id": "441ce0ad",
   "metadata": {
    "deletable": false,
    "editable": false,
    "nbgrader": {
     "cell_type": "markdown",
     "checksum": "07f39ba5857e0a423946885964960fe9",
     "grade": false,
     "grade_id": "cell-a6ee07f9ca8b9a48",
     "locked": true,
     "schema_version": 3,
     "solution": false,
     "task": false
    }
   },
   "source": [
    "#### 2.b. Function: my_id\n",
    "<a id=\"myName\"></a>\n",
    "Implement the function to return your ID number (as an integer number).<br/>\n",
    "Note: the **id number should be equal to the one in Moodle**, for example:<br/>\n",
    "<code>    return 132468579</code>"
   ]
  },
  {
   "cell_type": "markdown",
   "id": "c41cad0c",
   "metadata": {},
   "source": [
    "##### 2.b. my_id - YOUR SOLUTION - Implement and Run the following code cell:"
   ]
  },
  {
   "cell_type": "code",
   "execution_count": 4,
   "id": "9ffa2987",
   "metadata": {
    "deletable": false,
    "nbgrader": {
     "cell_type": "code",
     "checksum": "0a38288ac17882ef161105b5fec131e3",
     "grade": false,
     "grade_id": "solution2b-my_id",
     "locked": false,
     "schema_version": 3,
     "solution": true,
     "task": false
    }
   },
   "outputs": [],
   "source": [
    "# 2.b. my_id (your solution)\n",
    "# ====>>> YOUR ACTIONS: IMPLEMENT & RUN \n",
    "\n",
    "def my_id():\n",
    "    # YOUR CODE HERE\n",
    "    return 203797816"
   ]
  },
  {
   "cell_type": "markdown",
   "id": "cfbbfeb6",
   "metadata": {
    "deletable": false,
    "editable": false,
    "nbgrader": {
     "cell_type": "markdown",
     "checksum": "05bce51d9722a720f174380e73d72618",
     "grade": false,
     "grade_id": "cell-e192f487bf006269",
     "locked": true,
     "schema_version": 3,
     "solution": false,
     "task": false
    }
   },
   "source": [
    "##### 2.b.  my_id - OPTIONAL SELF TEST -  Implement and Run the following code cell (IF NEEDED):"
   ]
  },
  {
   "cell_type": "code",
   "execution_count": 5,
   "id": "35ba7aa2",
   "metadata": {
    "deletable": false,
    "nbgrader": {
     "cell_type": "code",
     "checksum": "6aaf48c6a029d6b857c04d15575b88be",
     "grade": false,
     "grade_id": "cell-1d5f9d602b1248de",
     "locked": false,
     "schema_version": 3,
     "solution": true,
     "task": false
    }
   },
   "outputs": [],
   "source": [
    "# 2.b. my_id (optional self testing)\n",
    "# ====>>> YOUR ACTIONS: (optional) IMPLEMENT & RUN \n",
    "\n",
    "student_id = my_id()\n",
    "# --- add additional code to check your code if needed:\n",
    "# YOUR CODE HERE\n"
   ]
  },
  {
   "cell_type": "markdown",
   "id": "fdd4fd88",
   "metadata": {
    "deletable": false,
    "editable": false,
    "nbgrader": {
     "cell_type": "markdown",
     "checksum": "1115a9afa6e81b6ce73370f79e7d3133",
     "grade": false,
     "grade_id": "cell-90ca90aa3443620a",
     "locked": true,
     "schema_version": 3,
     "solution": false,
     "task": false
    }
   },
   "source": [
    "##### 2. my_name, my_id - GRADED TESTS - Run the following code cell:"
   ]
  },
  {
   "cell_type": "code",
   "execution_count": 6,
   "id": "c70c67e8",
   "metadata": {
    "deletable": false,
    "editable": false,
    "nbgrader": {
     "cell_type": "code",
     "checksum": "9dcb2a5a05c0a0d7ef76ba015160f2ee",
     "grade": true,
     "grade_id": "test2-1_student_info",
     "locked": true,
     "points": 5,
     "schema_version": 3,
     "solution": false,
     "task": false
    }
   },
   "outputs": [
    {
     "name": "stdout",
     "output_type": "stream",
     "text": [
      "2. 'my_name' and 'my_id' - Test 1 (name: test2-1_student_info, points: 5)\n",
      "\n",
      "Good Job!\n",
      "You've passed the test for the implementation of 'my_name' and 'my_id'  :-)\n",
      "\n",
      "Output dataframe:\n",
      "-----------------\n"
     ]
    },
    {
     "data": {
      "text/html": [
       "<div>\n",
       "<style scoped>\n",
       "    .dataframe tbody tr th:only-of-type {\n",
       "        vertical-align: middle;\n",
       "    }\n",
       "\n",
       "    .dataframe tbody tr th {\n",
       "        vertical-align: top;\n",
       "    }\n",
       "\n",
       "    .dataframe thead th {\n",
       "        text-align: right;\n",
       "    }\n",
       "</style>\n",
       "<table border=\"1\" class=\"dataframe\">\n",
       "  <thead>\n",
       "    <tr style=\"text-align: right;\">\n",
       "      <th></th>\n",
       "      <th>value</th>\n",
       "      <th>type</th>\n",
       "      <th>date_time</th>\n",
       "    </tr>\n",
       "  </thead>\n",
       "  <tbody>\n",
       "    <tr>\n",
       "      <th>student_name</th>\n",
       "      <td>Netanel Peduim_Yakir Komemi</td>\n",
       "      <td>&lt;class 'str'&gt;</td>\n",
       "      <td>2024-08-28 22:04:31</td>\n",
       "    </tr>\n",
       "    <tr>\n",
       "      <th>student_id</th>\n",
       "      <td>203797816</td>\n",
       "      <td>&lt;class 'int'&gt;</td>\n",
       "      <td>2024-08-28 22:04:31</td>\n",
       "    </tr>\n",
       "  </tbody>\n",
       "</table>\n",
       "</div>"
      ],
      "text/plain": [
       "                                    value           type            date_time\n",
       "student_name  Netanel Peduim_Yakir Komemi  <class 'str'>  2024-08-28 22:04:31\n",
       "student_id                      203797816  <class 'int'>  2024-08-28 22:04:31"
      ]
     },
     "execution_count": 6,
     "metadata": {},
     "output_type": "execute_result"
    }
   ],
   "source": [
    "# 2. my_name, my_id (graded test)\n",
    "# ====>>> YOUR ACTIONS: RUN ONLY\n",
    "\n",
    "print (\"2. 'my_name' and 'my_id' - Test 1 (name: test2-1_student_info, points: 5)\")\n",
    "\n",
    "# dataframe for output:\n",
    "dt1 = datetime.now()\n",
    "try:\n",
    "    student_name, student_id = my_name(), my_id()\n",
    "except Exception as e:\n",
    "    print ('You probably have a syntax or implementation error,  \\nerror Message:',str(e), '\\nTry fixing your code')\n",
    "    raise\n",
    "\n",
    "assert type(student_name) is str or type(student_id) is int, \"name is not a string or id is not an integer\"\n",
    "\n",
    "s_datetime =  [dt1.strftime('%Y-%m-%d %H:%M:%S'), datetime.now().strftime('%Y-%m-%d %H:%M:%S')]\n",
    "df_output = pd.DataFrame({'value': [student_name, student_id], 'type': [type(student_name), type(student_id)], 'date_time': s_datetime},index=['student_name','student_id'])\n",
    "\n",
    "print (\"\\nGood Job!\\nYou've passed the test for the implementation of 'my_name' and 'my_id'  :-)\")\n",
    "\n",
    "print ('\\nOutput dataframe:')\n",
    "print ('-----------------')\n",
    "df_output"
   ]
  },
  {
   "cell_type": "markdown",
   "id": "f6f0d76b",
   "metadata": {
    "deletable": false,
    "editable": false,
    "nbgrader": {
     "cell_type": "markdown",
     "checksum": "e828f74ade0ee04c7adf2e64a7ff4753",
     "grade": false,
     "grade_id": "cell-f3cb6ed950b00429",
     "locked": true,
     "schema_version": 3,
     "solution": false,
     "task": false
    }
   },
   "source": [
    "### 3. Load dataset"
   ]
  },
  {
   "cell_type": "markdown",
   "id": "9a0db417",
   "metadata": {
    "deletable": false,
    "editable": false,
    "nbgrader": {
     "cell_type": "markdown",
     "checksum": "54de28bbbc25a84d1e5a0a2b5332bcb2",
     "grade": false,
     "grade_id": "cell-0ffd8ac7b637f950",
     "locked": true,
     "schema_version": 3,
     "solution": false,
     "task": false
    }
   },
   "source": [
    "[Go to the beginning of the assignment](#home)\n",
    "<a id=\"load_dataset\"></a>\n",
    "#### 3. Load dataset\n",
    "<u>method name</u>: <b>load_dataset</b><br/>\n",
    "\n",
    "------------\n",
    "\n",
    "<u>dependency</u>: <br/>\n",
    "* <b>my_name</b></br> \n",
    "* <b>my_id</b></br> \n",
    "\n",
    "------------\n",
    "\n",
    "<pre>\n",
    "input parameters:\n",
    "- file_name - a path containing the csv file name. Use the 'file_name' as is\n",
    "- category_col_name - the category column name\n",
    "------------\n",
    "The function should return a dataframe containing the feature vectors (X) and \n",
    "    a series containing the categories (y). </pre>\n",
    "    \n",
    "------------\n",
    "\n",
    "The return statement should look like this:<br/>\n",
    "<code>return X, y</code>"
   ]
  },
  {
   "cell_type": "markdown",
   "id": "a58953da",
   "metadata": {
    "deletable": false,
    "editable": false,
    "nbgrader": {
     "cell_type": "markdown",
     "checksum": "97725a214dbd5b4a3de51170e3e932d9",
     "grade": false,
     "grade_id": "cell-4f5da3a6bcd47fce",
     "locked": true,
     "schema_version": 3,
     "solution": false,
     "task": false
    }
   },
   "source": [
    "##### 3. load_dataset - OPTIONAL  ASSISTANCE  - Implement & Run the following cell (IF NEEDED):"
   ]
  },
  {
   "cell_type": "code",
   "execution_count": 7,
   "id": "e5e6c0d5",
   "metadata": {
    "deletable": false,
    "nbgrader": {
     "cell_type": "code",
     "checksum": "1ce1359bc873770daa2b9e734031b602",
     "grade": false,
     "grade_id": "cell-c95feb6aba5b1b7e",
     "locked": false,
     "schema_version": 3,
     "solution": true,
     "task": false
    }
   },
   "outputs": [],
   "source": [
    "# 3. load_dataset (optional assitance for your solution)\n",
    "# ====>>> YOUR ACTIONS: (optional) IMPLEMENT & RUN \n",
    "\n",
    "# ---- Add assistance code here IF NEEDED:\n",
    "# YOUR CODE HERE\n"
   ]
  },
  {
   "cell_type": "markdown",
   "id": "cf53fe24",
   "metadata": {
    "deletable": false,
    "editable": false,
    "nbgrader": {
     "cell_type": "markdown",
     "checksum": "eaef656eb70e54285fca9a98a2802753",
     "grade": false,
     "grade_id": "cell-7c5dbe73c5bec888",
     "locked": true,
     "schema_version": 3,
     "solution": false,
     "task": false
    }
   },
   "source": [
    "##### 3. load_dataset - YOUR SOLUTION - Implement and Run the following code cell:"
   ]
  },
  {
   "cell_type": "code",
   "execution_count": 52,
   "id": "6643a2c2",
   "metadata": {
    "deletable": false,
    "nbgrader": {
     "cell_type": "code",
     "checksum": "72171b2ee432d785d7a611dc94616e4f",
     "grade": false,
     "grade_id": "sol3-load_dataset",
     "locked": false,
     "schema_version": 3,
     "solution": true,
     "task": false
    }
   },
   "outputs": [],
   "source": [
    "# 3. load_dataset (your solution)\n",
    "# ====>>> YOUR ACTIONS: IMPLEMENT & RUN\n",
    "\n",
    "def load_dataset(file_name, category_col_name):\n",
    "    # YOUR CODE HERE\n",
    "    df = pd.read_csv(file_name)\n",
    "    return df , df.get([category_col_name])\n",
    "    "
   ]
  },
  {
   "cell_type": "markdown",
   "id": "b6ac1279",
   "metadata": {
    "deletable": false,
    "editable": false,
    "nbgrader": {
     "cell_type": "markdown",
     "checksum": "1ef1f1d236a7aca639565d97831b3208",
     "grade": false,
     "grade_id": "cell-97c044c44e3b0ca4",
     "locked": true,
     "schema_version": 3,
     "solution": false,
     "task": false
    }
   },
   "source": [
    "##### 3. load_dataset - OPTIONAL SELF TEST - Implement and Run the following code cell (IF NEEDED):"
   ]
  },
  {
   "cell_type": "code",
   "execution_count": 53,
   "id": "0402a1be",
   "metadata": {
    "deletable": false,
    "nbgrader": {
     "cell_type": "code",
     "checksum": "6f977b864948df2ef301ed43f78499c3",
     "grade": false,
     "grade_id": "cell-6878b5d0024a8368",
     "locked": false,
     "schema_version": 3,
     "solution": true,
     "task": false
    }
   },
   "outputs": [
    {
     "data": {
      "text/html": [
       "<div>\n",
       "<style scoped>\n",
       "    .dataframe tbody tr th:only-of-type {\n",
       "        vertical-align: middle;\n",
       "    }\n",
       "\n",
       "    .dataframe tbody tr th {\n",
       "        vertical-align: top;\n",
       "    }\n",
       "\n",
       "    .dataframe thead th {\n",
       "        text-align: right;\n",
       "    }\n",
       "</style>\n",
       "<table border=\"1\" class=\"dataframe\">\n",
       "  <thead>\n",
       "    <tr style=\"text-align: right;\">\n",
       "      <th></th>\n",
       "      <th>sepal length (cm)</th>\n",
       "      <th>sepal width (cm)</th>\n",
       "      <th>petal length (cm)</th>\n",
       "      <th>petal width (cm)</th>\n",
       "      <th>iris_type</th>\n",
       "    </tr>\n",
       "  </thead>\n",
       "  <tbody>\n",
       "    <tr>\n",
       "      <th>0</th>\n",
       "      <td>6.0</td>\n",
       "      <td>2.2</td>\n",
       "      <td>5.0</td>\n",
       "      <td>1.5</td>\n",
       "      <td>2</td>\n",
       "    </tr>\n",
       "    <tr>\n",
       "      <th>1</th>\n",
       "      <td>6.4</td>\n",
       "      <td>2.8</td>\n",
       "      <td>5.6</td>\n",
       "      <td>2.1</td>\n",
       "      <td>2</td>\n",
       "    </tr>\n",
       "    <tr>\n",
       "      <th>2</th>\n",
       "      <td>7.7</td>\n",
       "      <td>3.0</td>\n",
       "      <td>6.1</td>\n",
       "      <td>2.3</td>\n",
       "      <td>2</td>\n",
       "    </tr>\n",
       "  </tbody>\n",
       "</table>\n",
       "</div>"
      ],
      "text/plain": [
       "   sepal length (cm)  sepal width (cm)  petal length (cm)  petal width (cm)  \\\n",
       "0                6.0               2.2                5.0               1.5   \n",
       "1                6.4               2.8                5.6               2.1   \n",
       "2                7.7               3.0                6.1               2.3   \n",
       "\n",
       "   iris_type  \n",
       "0          2  \n",
       "1          2  \n",
       "2          2  "
      ]
     },
     "execution_count": 53,
     "metadata": {},
     "output_type": "execute_result"
    },
    {
     "name": "stdout",
     "output_type": "stream",
     "text": [
      "(120, 5)\n",
      "(120, 1)\n"
     ]
    }
   ],
   "source": [
    "# 3. load_dataset (optional self testing)\n",
    "# ====>>> YOUR ACTIONS: (optional) IMPLEMENT & RUN \n",
    "\n",
    "file_name = 'iris_train_set.csv'\n",
    "category_col_name = 'iris_type'\n",
    "student_name, student_id = my_name(), my_id()\n",
    "X,y = load_dataset(file_name, category_col_name)\n",
    "X.head(3)\n",
    "# --- add additional code to check your code if needed:\n",
    "# YOUR CODE HERE\n",
    "print(X.shape)\n",
    "print(y.shape)"
   ]
  },
  {
   "cell_type": "markdown",
   "id": "732ff9da",
   "metadata": {
    "deletable": false,
    "editable": false,
    "nbgrader": {
     "cell_type": "markdown",
     "checksum": "e9f8ac10aaf9622744812cbda77b69ce",
     "grade": false,
     "grade_id": "cell-fbaccfdba2a08e49",
     "locked": true,
     "schema_version": 3,
     "solution": false,
     "task": false
    }
   },
   "source": [
    "##### 3. load_dataset - GRADED TESTS - Run the following (3) code cells:"
   ]
  },
  {
   "cell_type": "code",
   "execution_count": 54,
   "id": "23bc9c4e",
   "metadata": {
    "deletable": false,
    "editable": false,
    "nbgrader": {
     "cell_type": "code",
     "checksum": "0cfd536e9303c7bcc15f4e0ca68b0208",
     "grade": true,
     "grade_id": "test3_1-load_dataset",
     "locked": true,
     "points": 1,
     "schema_version": 3,
     "solution": false,
     "task": false
    }
   },
   "outputs": [
    {
     "name": "stdout",
     "output_type": "stream",
     "text": [
      "3.'load_dataset' - Test 1 (name: test3_1-load_dataset, points: 1) - Sanity\n",
      "Good Job!\n",
      "You've passed the 1st test for the 'load_dataset' function implementation :-)\n"
     ]
    }
   ],
   "source": [
    "# 3. load_dataset (graded test)\n",
    "# ====>>> YOUR ACTIONS: RUN ONLY\n",
    "\n",
    "print (\"3.'load_dataset' - Test 1 (name: test3_1-load_dataset, points: 1) - Sanity\")\n",
    "\n",
    "file_name = 'iris_train_set.csv'\n",
    "category_col_name = 'iris_type'\n",
    "\n",
    "try:\n",
    "    student_name, student_id = my_name(), my_id()\n",
    "    X, y = load_dataset(file_name, category_col_name)\n",
    "except Exception as e:\n",
    "    print ('You probably have a syntax or implementation error,  \\nerror Message:',str(e), '\\nTry fixing your code')\n",
    "    raise\n",
    "    \n",
    "print (\"Good Job!\\nYou've passed the 1st test for the 'load_dataset' function implementation :-)\")   "
   ]
  },
  {
   "cell_type": "code",
   "execution_count": 55,
   "id": "6e70eaa0",
   "metadata": {
    "deletable": false,
    "editable": false,
    "nbgrader": {
     "cell_type": "code",
     "checksum": "5959e5b4fa3a88ecff695b2b07e1472e",
     "grade": true,
     "grade_id": "test3_2-load_dataset",
     "locked": true,
     "points": 4,
     "schema_version": 3,
     "solution": false,
     "task": false
    }
   },
   "outputs": [
    {
     "name": "stdout",
     "output_type": "stream",
     "text": [
      "3.'load_dataset' - Test 2 (name: test3_2-load_dataset, points: 4)\n",
      "Good Job!\n",
      "You've passed the 2nd test for the 'load_dataset' function implementation :-)\n"
     ]
    }
   ],
   "source": [
    "# 3. load_dataset (graded test)\n",
    "# ====>>> YOUR ACTIONS: RUN ONLY\n",
    "\n",
    "print (\"3.'load_dataset' - Test 2 (name: test3_2-load_dataset, points: 4)\")\n",
    "\n",
    "file_name = 'iris_train_set.csv'\n",
    "category_col_name = 'iris_type'\n",
    "\n",
    "try:\n",
    "    student_name, student_id = my_name(), my_id()\n",
    "    X, y = load_dataset(file_name, category_col_name)\n",
    "except Exception as e:\n",
    "    print ('You probably have a syntax or implementation error,  \\nerror Message:',str(e), '\\nTry fixing your code')\n",
    "    raise\n",
    "\n",
    "assert type(X) is pd.DataFrame or type(y) is pd.Series, \"Wrong type for feature vectors dataframe or for category series\"\n",
    "np.testing.assert_array_equal(X.index, y.index, 'X and y should have the same index')\n",
    "    \n",
    "print (\"Good Job!\\nYou've passed the 2nd test for the 'load_dataset' function implementation :-)\")        "
   ]
  },
  {
   "cell_type": "code",
   "execution_count": 56,
   "id": "e5ec216d",
   "metadata": {
    "deletable": false,
    "editable": false,
    "nbgrader": {
     "cell_type": "code",
     "checksum": "8227f9b8f341bc60f32efa2e8c7dca26",
     "grade": true,
     "grade_id": "test3_3-load_dataset",
     "locked": true,
     "points": 5,
     "schema_version": 3,
     "solution": false,
     "task": false
    }
   },
   "outputs": [
    {
     "name": "stdout",
     "output_type": "stream",
     "text": [
      "3. 'load_dataset' - Test 3 (name: test3_3-load_dataset, points: 5)\n"
     ]
    },
    {
     "ename": "AssertionError",
     "evalue": "Wrong shape for feature vector dataframe or category series",
     "output_type": "error",
     "traceback": [
      "\u001b[1;31m---------------------------------------------------------------------------\u001b[0m",
      "\u001b[1;31mAssertionError\u001b[0m                            Traceback (most recent call last)",
      "\u001b[1;32m~\\AppData\\Local\\Temp\\ipykernel_21200\\1415929043.py\u001b[0m in \u001b[0;36m<module>\u001b[1;34m\u001b[0m\n\u001b[0;32m     14\u001b[0m     \u001b[1;32mraise\u001b[0m\u001b[1;33m\u001b[0m\u001b[1;33m\u001b[0m\u001b[0m\n\u001b[0;32m     15\u001b[0m \u001b[1;33m\u001b[0m\u001b[0m\n\u001b[1;32m---> 16\u001b[1;33m \u001b[1;32massert\u001b[0m \u001b[0mX\u001b[0m\u001b[1;33m.\u001b[0m\u001b[0mshape\u001b[0m \u001b[1;33m==\u001b[0m \u001b[1;33m(\u001b[0m\u001b[1;36m30\u001b[0m\u001b[1;33m,\u001b[0m\u001b[1;36m4\u001b[0m\u001b[1;33m)\u001b[0m \u001b[1;32mand\u001b[0m \u001b[0mX\u001b[0m\u001b[1;33m.\u001b[0m\u001b[0mshape\u001b[0m\u001b[1;33m[\u001b[0m\u001b[1;36m0\u001b[0m\u001b[1;33m]\u001b[0m \u001b[1;33m==\u001b[0m \u001b[0my\u001b[0m\u001b[1;33m.\u001b[0m\u001b[0mshape\u001b[0m\u001b[1;33m[\u001b[0m\u001b[1;36m0\u001b[0m\u001b[1;33m]\u001b[0m\u001b[1;33m,\u001b[0m \u001b[1;34m'Wrong shape for feature vector dataframe or category series'\u001b[0m\u001b[1;33m\u001b[0m\u001b[1;33m\u001b[0m\u001b[0m\n\u001b[0m\u001b[0;32m     17\u001b[0m \u001b[1;33m\u001b[0m\u001b[0m\n\u001b[0;32m     18\u001b[0m \u001b[0mprint\u001b[0m \u001b[1;33m(\u001b[0m\u001b[1;34m\"Good Job!\\nYou've passed the 3rd test for the 'load_dataset' function implementation :-)\"\u001b[0m\u001b[1;33m)\u001b[0m\u001b[1;33m\u001b[0m\u001b[1;33m\u001b[0m\u001b[0m\n",
      "\u001b[1;31mAssertionError\u001b[0m: Wrong shape for feature vector dataframe or category series"
     ]
    }
   ],
   "source": [
    "# 3. load_dataset (graded test)\n",
    "# ====>>> YOUR ACTIONS: RUN ONLY\n",
    "\n",
    "print (\"3. 'load_dataset' - Test 3 (name: test3_3-load_dataset, points: 5)\")\n",
    "\n",
    "file_name = 'iris_test_set.csv'\n",
    "category_col_name = 'iris_type'\n",
    "\n",
    "try:\n",
    "    student_name, student_id = my_name(), my_id()\n",
    "    X, y = load_dataset(file_name, category_col_name)\n",
    "except Exception as e:\n",
    "    print ('You probably have a syntax or implementation error,  \\nerror Message:',str(e), '\\nTry fixing your code')\n",
    "    raise\n",
    "    \n",
    "assert X.shape == (30,4) and X.shape[0] == y.shape[0], 'Wrong shape for feature vector dataframe or category series'\n",
    "\n",
    "print (\"Good Job!\\nYou've passed the 3rd test for the 'load_dataset' function implementation :-)\")        "
   ]
  },
  {
   "cell_type": "markdown",
   "id": "d1ce887e",
   "metadata": {
    "deletable": false,
    "editable": false,
    "nbgrader": {
     "cell_type": "markdown",
     "checksum": "c4d06c30e9982b48b4e2e08763c4790b",
     "grade": false,
     "grade_id": "cell-8ba7e1a984546173",
     "locked": true,
     "schema_version": 3,
     "solution": false,
     "task": false
    }
   },
   "source": [
    "### Part 4 - fit (training a Gaussian Naive Bayes model) \n",
    "  * Calculate class priors\n",
    "  * Calculate the 'mean' element out of likelihood probability\n",
    "  * Calculate the 'std' element out of likelihood probability\n",
    "  * fit"
   ]
  },
  {
   "cell_type": "markdown",
   "id": "f8978f3a",
   "metadata": {
    "deletable": false,
    "editable": false,
    "nbgrader": {
     "cell_type": "markdown",
     "checksum": "c7b03799f6e161c2bdc8155a3475d2fb",
     "grade": false,
     "grade_id": "cell-00975960b3f1f62b",
     "locked": true,
     "schema_version": 3,
     "solution": false,
     "task": false
    }
   },
   "source": [
    "[Go to the beginning of the assignment](#home)\n",
    "<a id=\"calc_class_priors\"></a>\n",
    "#### 4.a. Calculate class priors \n",
    "<u>method name</u>: <b>calc_class_priors</b><br/>\n",
    "\n",
    "------------\n",
    "\n",
    "<u>dependency</u>: <br/>\n",
    "* <b>my_name</b></br> \n",
    "* <b>my_id</b></br> \n",
    "* <b>load_dataset</b></br> \n",
    "\n",
    "------------\n",
    "\n",
    "<pre>\n",
    "Change the following function to return a python list \n",
    "containing the 3 classes priors (one for each class).\n",
    "------------\n",
    "input parameter:\n",
    "- y_train - a series containing the train-set's categories\n",
    "- lst_class_vals - A simple python list, containing the possible category values. \n",
    "               remark: for the iris case it includes: [0,1,2]\n",
    "------------\n",
    "return value:\n",
    "-  a python list, containing the class priors\n",
    "</pre>\n",
    "    \n",
    "------------\n",
    "\n",
    "The return statement should look like this:<br/>\n",
    "<code>return lst_priors</code>"
   ]
  },
  {
   "cell_type": "markdown",
   "id": "2bbaf089",
   "metadata": {
    "deletable": false,
    "editable": false,
    "nbgrader": {
     "cell_type": "markdown",
     "checksum": "84440c5eab3658ad47af30ce22adbaaa",
     "grade": false,
     "grade_id": "cell-9d207a0aa5429aa0",
     "locked": true,
     "schema_version": 3,
     "solution": false,
     "task": false
    }
   },
   "source": [
    "##### 4.a. calc_class_priors - OPTIONAL  ASSISTANCE  - Implement & Run the following cell (IF NEEDED):"
   ]
  },
  {
   "cell_type": "code",
   "execution_count": 13,
   "id": "536d4003",
   "metadata": {
    "deletable": false,
    "nbgrader": {
     "cell_type": "code",
     "checksum": "4c469722cb2f1247c0203b6c5be39668",
     "grade": false,
     "grade_id": "cell-934955b2d7946121",
     "locked": false,
     "schema_version": 3,
     "solution": true,
     "task": false
    }
   },
   "outputs": [],
   "source": [
    "# 4.a. calc_class_priors (optional assitance for your solution)\n",
    "# ====>>> YOUR ACTIONS: (optional) IMPLEMENT & RUN \n",
    "\n",
    "# ---- Add assistance code here IF NEEDED:\n",
    "# YOUR CODE HERE\n"
   ]
  },
  {
   "cell_type": "markdown",
   "id": "fcc9ea93",
   "metadata": {
    "deletable": false,
    "editable": false,
    "nbgrader": {
     "cell_type": "markdown",
     "checksum": "1b60a4439dd62ef0daea06c73ba9c0dd",
     "grade": false,
     "grade_id": "cell-85856e5d25353ccc",
     "locked": true,
     "schema_version": 3,
     "solution": false,
     "task": false
    }
   },
   "source": [
    "##### 4.a. calc_class_priors - YOUR SOLUTION - Implement and Run the following code cell:"
   ]
  },
  {
   "cell_type": "code",
   "execution_count": 14,
   "id": "0ce07661",
   "metadata": {
    "deletable": false,
    "nbgrader": {
     "cell_type": "code",
     "checksum": "4a3d53006d56653c3d699ebe0f11ff13",
     "grade": false,
     "grade_id": "sol4a-calc_class_priors",
     "locked": false,
     "schema_version": 3,
     "solution": true,
     "task": false
    }
   },
   "outputs": [],
   "source": [
    "# 4.a. calc_class_priors (your solution)\n",
    "# ====>>> YOUR ACTIONS: IMPLEMENT & RUN\n",
    "\n",
    "def calc_class_priors(y_train, lst_class_vals):\n",
    "    # YOUR CODE HERE\n",
    "    lst_priors = []\n",
    "    all_values = len(y_train)\n",
    "    for class_val in lst_class_vals:\n",
    "        count = (y_train.values == class_val).sum()\n",
    "        prior = count / all_values\n",
    "        lst_priors.append(prior)\n",
    "    return lst_priors\n",
    "    \n",
    "    "
   ]
  },
  {
   "cell_type": "markdown",
   "id": "908e37c5",
   "metadata": {
    "deletable": false,
    "editable": false,
    "nbgrader": {
     "cell_type": "markdown",
     "checksum": "5012682d0a45d4d5d4ec41c470c4f586",
     "grade": false,
     "grade_id": "cell-6de76e673c0fdcc4",
     "locked": true,
     "schema_version": 3,
     "solution": false,
     "task": false
    }
   },
   "source": [
    "##### 4.a. calc_class_priors - OPTIONAL SELF TEST - Implement and Run the following code cell (IF NEEDED):"
   ]
  },
  {
   "cell_type": "code",
   "execution_count": 15,
   "id": "c0a253b3",
   "metadata": {
    "deletable": false,
    "nbgrader": {
     "cell_type": "code",
     "checksum": "fe9280f89bdda733020ea8ebc996dc37",
     "grade": false,
     "grade_id": "cell-f32089e054525334",
     "locked": false,
     "schema_version": 3,
     "solution": true,
     "task": false
    }
   },
   "outputs": [
    {
     "name": "stdout",
     "output_type": "stream",
     "text": [
      "0.34\n",
      "[0.3416666666666667, 0.325, 0.3333333333333333]\n"
     ]
    }
   ],
   "source": [
    "# 4.a. calc_class_priors (optional self testing)\n",
    "# ====>>> YOUR ACTIONS: (optional) IMPLEMENT & RUN \n",
    "\n",
    "file_name = 'iris_train_set.csv'\n",
    "category_col_name = 'iris_type'\n",
    "lst_class_values = [0,1,2]\n",
    "student_name, student_id = my_name(), my_id()\n",
    "X, y = load_dataset(file_name, category_col_name)\n",
    "lst_priors = calc_class_priors(y, lst_class_values)\n",
    "# --- add additional code to check your code if needed:\n",
    "# YOUR CODE HERE\n",
    "print(np.round(lst_priors[0],2))\n",
    "print(lst_priors)"
   ]
  },
  {
   "cell_type": "markdown",
   "id": "4f0cd3f5",
   "metadata": {
    "deletable": false,
    "editable": false,
    "nbgrader": {
     "cell_type": "markdown",
     "checksum": "5b0fdc761ad56f08a08567a9f0a1d457",
     "grade": false,
     "grade_id": "cell-7d8ff6cd1dd73542",
     "locked": true,
     "schema_version": 3,
     "solution": false,
     "task": false
    }
   },
   "source": [
    "##### 4.a. calc_class_priors - GRADED TESTS - Run the following (3) code cells:"
   ]
  },
  {
   "cell_type": "code",
   "execution_count": 16,
   "id": "3f27c377",
   "metadata": {
    "deletable": false,
    "editable": false,
    "nbgrader": {
     "cell_type": "code",
     "checksum": "85ff5b751ca19cf637ba2567b5a678a3",
     "grade": true,
     "grade_id": "test4a_1-calc_class_priors",
     "locked": true,
     "points": 1,
     "schema_version": 3,
     "solution": false,
     "task": false
    }
   },
   "outputs": [
    {
     "name": "stdout",
     "output_type": "stream",
     "text": [
      "4.a.'calc_class_priors' - Test 1 (name: test4a_1-calc_class_priors, points: 1) - Sanity\n",
      "Good Job!\n",
      "You've passed the 1st test for the 'calc_class_priors' function implementation :-)\n"
     ]
    }
   ],
   "source": [
    "# 4.a. calc_class_priors (graded test)\n",
    "# ====>>> YOUR ACTIONS: RUN ONLY\n",
    "\n",
    "print (\"4.a.'calc_class_priors' - Test 1 (name: test4a_1-calc_class_priors, points: 1) - Sanity\")\n",
    "\n",
    "file_name = 'iris_train_set.csv'\n",
    "category_col_name = 'iris_type'\n",
    "lst_class_values = [0,1,2]\n",
    "try:\n",
    "    student_name, student_id = my_name(), my_id()\n",
    "    X, y = load_dataset(file_name, category_col_name)\n",
    "    lst_priors = calc_class_priors(y, lst_class_values)\n",
    "except Exception as e:\n",
    "    print ('You probably have a syntax or implementation error,  \\nerror Message:',str(e), '\\nTry fixing your code')\n",
    "    raise\n",
    "    \n",
    "print (\"Good Job!\\nYou've passed the 1st test for the 'calc_class_priors' function implementation :-)\")   "
   ]
  },
  {
   "cell_type": "code",
   "execution_count": 17,
   "id": "356852c5",
   "metadata": {
    "deletable": false,
    "editable": false,
    "nbgrader": {
     "cell_type": "code",
     "checksum": "47282ea742e775848fdfbdabb1879535",
     "grade": true,
     "grade_id": "test4a_2-calc_class_priors",
     "locked": true,
     "points": 4,
     "schema_version": 3,
     "solution": false,
     "task": false
    }
   },
   "outputs": [
    {
     "name": "stdout",
     "output_type": "stream",
     "text": [
      "4.a.'calc_class_priors' - Test 2 (name: test4a_2-calc_class_priors, points: 4)\n",
      "Good Job!\n",
      "You've passed the 2nd test for the 'calc_class_priors' function implementation :-)\n"
     ]
    }
   ],
   "source": [
    "# 4.a. calc_mean_for_likelihood (graded test)\n",
    "# ====>>> YOUR ACTIONS: RUN ONLY\n",
    "\n",
    "print (\"4.a.'calc_class_priors' - Test 2 (name: test4a_2-calc_class_priors, points: 4)\")\n",
    "\n",
    "file_name = 'iris_train_set.csv'\n",
    "category_col_name = 'iris_type'\n",
    "lst_class_values = [0,1,2]\n",
    "\n",
    "try:\n",
    "    student_name, student_id = my_name(), my_id()\n",
    "    X, y = load_dataset(file_name, category_col_name)\n",
    "    lst_priors = calc_class_priors(y, lst_class_values)\n",
    "except Exception as e:\n",
    "    print ('You probably have a syntax or implementation error,  \\nerror Message:',str(e), '\\nTry fixing your code')\n",
    "    raise\n",
    "\n",
    "assert len(lst_priors)==3,'there should be 3 class priors'\n",
    "    \n",
    "print (\"Good Job!\\nYou've passed the 2nd test for the 'calc_class_priors' function implementation :-)\")        "
   ]
  },
  {
   "cell_type": "code",
   "execution_count": 18,
   "id": "e3b087c8",
   "metadata": {
    "deletable": false,
    "editable": false,
    "nbgrader": {
     "cell_type": "code",
     "checksum": "c7bd883b10102e08d13e44d2a59b5010",
     "grade": true,
     "grade_id": "test4a_3-calc_class_priors",
     "locked": true,
     "points": 5,
     "schema_version": 3,
     "solution": false,
     "task": false
    }
   },
   "outputs": [
    {
     "name": "stdout",
     "output_type": "stream",
     "text": [
      "4.a.'calc_class_priors' - Test 3 (name: test4a_3-calc_class_priors, points: 5)\n",
      "Good Job!\n",
      "You've passed the 3rd test for the 'calc_class_priors' function implementation :-)\n"
     ]
    }
   ],
   "source": [
    "# 4.a. calc_mean_for_likelihood (graded test)\n",
    "# ====>>> YOUR ACTIONS: RUN ONLY\n",
    "\n",
    "print (\"4.a.'calc_class_priors' - Test 3 (name: test4a_3-calc_class_priors, points: 5)\")\n",
    "\n",
    "file_name = 'iris_train_set.csv'\n",
    "category_col_name = 'iris_type'\n",
    "lst_class_values = [0,1,2]\n",
    "\n",
    "try:\n",
    "    student_name, student_id = my_name(), my_id()\n",
    "    X, y = load_dataset(file_name, category_col_name)\n",
    "    lst_priors = calc_class_priors(y, lst_class_values)\n",
    "except Exception as e:\n",
    "    print ('You probably have a syntax or implementation error,  \\nerror Message:',str(e), '\\nTry fixing your code')\n",
    "    raise\n",
    "\n",
    "assert 0.34==np.round(lst_priors[0],2),'wrong prior for class-0'\n",
    "    \n",
    "print (\"Good Job!\\nYou've passed the 3rd test for the 'calc_class_priors' function implementation :-)\")        "
   ]
  },
  {
   "cell_type": "markdown",
   "id": "5ec2e138",
   "metadata": {
    "deletable": false,
    "editable": false,
    "nbgrader": {
     "cell_type": "markdown",
     "checksum": "2d8a19b40d081dcf41003f20f2883f4c",
     "grade": false,
     "grade_id": "cell-f2460017351b549d",
     "locked": true,
     "schema_version": 3,
     "solution": false,
     "task": false
    }
   },
   "source": [
    "[Go to the beginning of the assignment](#home)\n",
    "<a id=\"calc_mean\"></a>\n",
    "#### 4.b. Calculate the 'mean' element out of likelihood probability\n",
    "<u>method name</u>: <b>calc_mean_for_likelihood</b><br/>\n",
    "\n",
    "------------\n",
    "\n",
    "<u>dependency</u>: <br/>\n",
    "* <b>my_name</b></br> \n",
    "* <b>my_id</b></br> \n",
    "* <b>load_dataset</b></br> \n",
    "\n",
    "------------\n",
    "\n",
    "<pre>\n",
    "Change the following function to return mean of the values for each feature\n",
    "this should be done separately for each class value (in the training set)\n",
    "    * create a df_mean_likelihood, including the features as columns and classes as indexes\n",
    "    * the cells contain the mean values for each class and feature \n",
    "------------\n",
    "input parameter:\n",
    "- training_set - the train-set dataframe including also the target value\n",
    "- category_col_name - the category column name\n",
    "------------\n",
    "return value:\n",
    "-  a dataframe, consisting of the feature names as columns and classes as indexes\n",
    "   the cells consists of the mean values for each class and feature \n",
    "</pre>\n",
    "    \n",
    "------------\n",
    "\n",
    "The return statement should look like this:<br/>\n",
    "<code>return df_mean_likelihood</code>"
   ]
  },
  {
   "cell_type": "markdown",
   "id": "2f3080f9",
   "metadata": {
    "deletable": false,
    "editable": false,
    "nbgrader": {
     "cell_type": "markdown",
     "checksum": "8bbb650b31c09be92a600f8adbe3b298",
     "grade": false,
     "grade_id": "cell-4d9a816f29a5fc1e",
     "locked": true,
     "schema_version": 3,
     "solution": false,
     "task": false
    }
   },
   "source": [
    "##### 4.b. calc_mean_for_likelihood - OPTIONAL  ASSISTANCE  - Implement & Run the following cell (IF NEEDED):"
   ]
  },
  {
   "cell_type": "code",
   "execution_count": 19,
   "id": "4c2d9fe9",
   "metadata": {},
   "outputs": [
    {
     "data": {
      "text/html": [
       "<div>\n",
       "<style scoped>\n",
       "    .dataframe tbody tr th:only-of-type {\n",
       "        vertical-align: middle;\n",
       "    }\n",
       "\n",
       "    .dataframe tbody tr th {\n",
       "        vertical-align: top;\n",
       "    }\n",
       "\n",
       "    .dataframe thead th {\n",
       "        text-align: right;\n",
       "    }\n",
       "</style>\n",
       "<table border=\"1\" class=\"dataframe\">\n",
       "  <thead>\n",
       "    <tr style=\"text-align: right;\">\n",
       "      <th></th>\n",
       "      <th>sepal length (cm)</th>\n",
       "      <th>sepal width (cm)</th>\n",
       "      <th>petal length (cm)</th>\n",
       "      <th>petal width (cm)</th>\n",
       "      <th>iris_type</th>\n",
       "    </tr>\n",
       "  </thead>\n",
       "  <tbody>\n",
       "    <tr>\n",
       "      <th>0</th>\n",
       "      <td>6.0</td>\n",
       "      <td>2.2</td>\n",
       "      <td>5.0</td>\n",
       "      <td>1.5</td>\n",
       "      <td>2</td>\n",
       "    </tr>\n",
       "    <tr>\n",
       "      <th>1</th>\n",
       "      <td>6.4</td>\n",
       "      <td>2.8</td>\n",
       "      <td>5.6</td>\n",
       "      <td>2.1</td>\n",
       "      <td>2</td>\n",
       "    </tr>\n",
       "    <tr>\n",
       "      <th>2</th>\n",
       "      <td>7.7</td>\n",
       "      <td>3.0</td>\n",
       "      <td>6.1</td>\n",
       "      <td>2.3</td>\n",
       "      <td>2</td>\n",
       "    </tr>\n",
       "  </tbody>\n",
       "</table>\n",
       "</div>"
      ],
      "text/plain": [
       "   sepal length (cm)  sepal width (cm)  petal length (cm)  petal width (cm)  \\\n",
       "0                6.0               2.2                5.0               1.5   \n",
       "1                6.4               2.8                5.6               2.1   \n",
       "2                7.7               3.0                6.1               2.3   \n",
       "\n",
       "   iris_type  \n",
       "0          2  \n",
       "1          2  \n",
       "2          2  "
      ]
     },
     "execution_count": 19,
     "metadata": {},
     "output_type": "execute_result"
    },
    {
     "data": {
      "text/html": [
       "<div>\n",
       "<style scoped>\n",
       "    .dataframe tbody tr th:only-of-type {\n",
       "        vertical-align: middle;\n",
       "    }\n",
       "\n",
       "    .dataframe tbody tr th {\n",
       "        vertical-align: top;\n",
       "    }\n",
       "\n",
       "    .dataframe thead th {\n",
       "        text-align: right;\n",
       "    }\n",
       "</style>\n",
       "<table border=\"1\" class=\"dataframe\">\n",
       "  <thead>\n",
       "    <tr style=\"text-align: right;\">\n",
       "      <th></th>\n",
       "      <th>iris_type</th>\n",
       "    </tr>\n",
       "  </thead>\n",
       "  <tbody>\n",
       "    <tr>\n",
       "      <th>0</th>\n",
       "      <td>2</td>\n",
       "    </tr>\n",
       "    <tr>\n",
       "      <th>1</th>\n",
       "      <td>2</td>\n",
       "    </tr>\n",
       "    <tr>\n",
       "      <th>2</th>\n",
       "      <td>2</td>\n",
       "    </tr>\n",
       "  </tbody>\n",
       "</table>\n",
       "</div>"
      ],
      "text/plain": [
       "   iris_type\n",
       "0          2\n",
       "1          2\n",
       "2          2"
      ]
     },
     "execution_count": 19,
     "metadata": {},
     "output_type": "execute_result"
    },
    {
     "data": {
      "text/html": [
       "<div>\n",
       "<style scoped>\n",
       "    .dataframe tbody tr th:only-of-type {\n",
       "        vertical-align: middle;\n",
       "    }\n",
       "\n",
       "    .dataframe tbody tr th {\n",
       "        vertical-align: top;\n",
       "    }\n",
       "\n",
       "    .dataframe thead th {\n",
       "        text-align: right;\n",
       "    }\n",
       "</style>\n",
       "<table border=\"1\" class=\"dataframe\">\n",
       "  <thead>\n",
       "    <tr style=\"text-align: right;\">\n",
       "      <th></th>\n",
       "      <th>sepal length (cm)</th>\n",
       "      <th>sepal width (cm)</th>\n",
       "      <th>petal length (cm)</th>\n",
       "      <th>petal width (cm)</th>\n",
       "      <th>iris_type</th>\n",
       "    </tr>\n",
       "  </thead>\n",
       "  <tbody>\n",
       "    <tr>\n",
       "      <th>0</th>\n",
       "      <td>6.0</td>\n",
       "      <td>2.2</td>\n",
       "      <td>5.0</td>\n",
       "      <td>1.5</td>\n",
       "      <td>2</td>\n",
       "    </tr>\n",
       "    <tr>\n",
       "      <th>1</th>\n",
       "      <td>6.4</td>\n",
       "      <td>2.8</td>\n",
       "      <td>5.6</td>\n",
       "      <td>2.1</td>\n",
       "      <td>2</td>\n",
       "    </tr>\n",
       "    <tr>\n",
       "      <th>2</th>\n",
       "      <td>7.7</td>\n",
       "      <td>3.0</td>\n",
       "      <td>6.1</td>\n",
       "      <td>2.3</td>\n",
       "      <td>2</td>\n",
       "    </tr>\n",
       "  </tbody>\n",
       "</table>\n",
       "</div>"
      ],
      "text/plain": [
       "   sepal length (cm)  sepal width (cm)  petal length (cm)  petal width (cm)  \\\n",
       "0                6.0               2.2                5.0               1.5   \n",
       "1                6.4               2.8                5.6               2.1   \n",
       "2                7.7               3.0                6.1               2.3   \n",
       "\n",
       "   iris_type  \n",
       "0          2  \n",
       "1          2  \n",
       "2          2  "
      ]
     },
     "execution_count": 19,
     "metadata": {},
     "output_type": "execute_result"
    }
   ],
   "source": [
    "X.head(3)\n",
    "y.head(3)\n",
    "trainset=X.copy(deep=True)\n",
    "trainset['iris_type']=y\n",
    "trainset.head(3)"
   ]
  },
  {
   "cell_type": "code",
   "execution_count": 20,
   "id": "bed24cea",
   "metadata": {
    "deletable": false,
    "nbgrader": {
     "cell_type": "code",
     "checksum": "fd373817a69dd605e644e97f39906727",
     "grade": false,
     "grade_id": "cell-1aef425a6e8a4558",
     "locked": false,
     "schema_version": 3,
     "solution": true,
     "task": false
    }
   },
   "outputs": [],
   "source": [
    "# 4.b. calc_mean_for_likelihood (optional assitance for your solution)\n",
    "# ====>>> YOUR ACTIONS: (optional) IMPLEMENT & RUN \n",
    "\n",
    "# ---- Add assistance code here IF NEEDED:\n",
    "# YOUR CODE HERE\n"
   ]
  },
  {
   "cell_type": "markdown",
   "id": "6a57ab1e",
   "metadata": {
    "deletable": false,
    "editable": false,
    "nbgrader": {
     "cell_type": "markdown",
     "checksum": "1891723bf27816ec91669d1622d9656f",
     "grade": false,
     "grade_id": "cell-d4ecd4c27ba72b86",
     "locked": true,
     "schema_version": 3,
     "solution": false,
     "task": false
    }
   },
   "source": [
    "##### 4.b. calc_mean_for_likelihood - YOUR SOLUTION - Implement and Run the following code cell:"
   ]
  },
  {
   "cell_type": "code",
   "execution_count": 21,
   "id": "16d85fdd",
   "metadata": {
    "deletable": false,
    "nbgrader": {
     "cell_type": "code",
     "checksum": "6af4ffa469cf15cefbd8e399ca860d7e",
     "grade": false,
     "grade_id": "sol4b-calc_mean_for_likelihood",
     "locked": false,
     "schema_version": 3,
     "solution": true,
     "task": false
    }
   },
   "outputs": [],
   "source": [
    "# 4.b. calc_mean_for_likelihood (your solution)\n",
    "# ====>>> YOUR ACTIONS: IMPLEMENT & RUN\n",
    "\n",
    "def calc_mean_for_likelihood(training_set, category_col_name):\n",
    "    # YOUR CODE HERE\n",
    "    grouped_means = training_set.groupby(category_col_name).mean()\n",
    "    grouped_means['iris_type'] = [0,1,2] \n",
    "    print(grouped_means)\n",
    "    return(grouped_means)\n",
    "    "
   ]
  },
  {
   "cell_type": "markdown",
   "id": "6c077448",
   "metadata": {
    "deletable": false,
    "editable": false,
    "nbgrader": {
     "cell_type": "markdown",
     "checksum": "7e21b1cfa16b6a9a58d90b7bf07cd7da",
     "grade": false,
     "grade_id": "cell-0f5b87ff408bfd1b",
     "locked": true,
     "schema_version": 3,
     "solution": false,
     "task": false
    }
   },
   "source": [
    "##### 4.b. calc_mean_for_likelihood - OPTIONAL SELF TEST - Implement and Run the following code cell (IF NEEDED):"
   ]
  },
  {
   "cell_type": "code",
   "execution_count": 22,
   "id": "e08c90c9",
   "metadata": {
    "deletable": false,
    "nbgrader": {
     "cell_type": "code",
     "checksum": "2d21824584b899cd6aef51c7ef30558b",
     "grade": false,
     "grade_id": "cell-22f39df08f8af753",
     "locked": false,
     "schema_version": 3,
     "solution": true,
     "task": false
    }
   },
   "outputs": [
    {
     "name": "stdout",
     "output_type": "stream",
     "text": [
      "           sepal length (cm)  sepal width (cm)  petal length (cm)  \\\n",
      "iris_type                                                           \n",
      "0                   4.982927          3.412195           1.446341   \n",
      "1                   5.961538          2.782051           4.279487   \n",
      "2                   6.505000          2.945000           5.465000   \n",
      "\n",
      "           petal width (cm)  iris_type  \n",
      "iris_type                               \n",
      "0                  0.241463          0  \n",
      "1                  1.328205          1  \n",
      "2                  2.012500          2  \n"
     ]
    }
   ],
   "source": [
    "# 4.b. calc_mean_for_likelihood (optional self testing)\n",
    "# ====>>> YOUR ACTIONS: (optional) IMPLEMENT & RUN \n",
    "\n",
    "file_name = 'iris_train_set.csv'\n",
    "category_col_name = 'iris_type'\n",
    "student_name, student_id = my_name(), my_id()\n",
    "X, y = load_dataset(file_name, category_col_name)\n",
    "trainset=X.copy(deep=True)\n",
    "trainset[category_col_name]=y\n",
    "df_mean_likelihood = calc_mean_for_likelihood(trainset, category_col_name)\n",
    "# --- add additional code to check your code if needed:\n",
    "# YOUR CODE HERE\n"
   ]
  },
  {
   "cell_type": "markdown",
   "id": "570e2316",
   "metadata": {
    "deletable": false,
    "editable": false,
    "nbgrader": {
     "cell_type": "markdown",
     "checksum": "70735fc033bfe7845f22afaea4549151",
     "grade": false,
     "grade_id": "cell-b2cd3d9206d483d8",
     "locked": true,
     "schema_version": 3,
     "solution": false,
     "task": false
    }
   },
   "source": [
    "##### 4.b. calc_mean_for_likelihood - GRADED TESTS - Run the following (3) code cells:"
   ]
  },
  {
   "cell_type": "code",
   "execution_count": 23,
   "id": "582513e5",
   "metadata": {
    "deletable": false,
    "editable": false,
    "nbgrader": {
     "cell_type": "code",
     "checksum": "0a521698248c644cd82f018ae9355861",
     "grade": true,
     "grade_id": "test4b_1-calc_mean_for_likelihood",
     "locked": true,
     "points": 1,
     "schema_version": 3,
     "solution": false,
     "task": false
    }
   },
   "outputs": [
    {
     "name": "stdout",
     "output_type": "stream",
     "text": [
      "4.b.'calc_mean_for_likelihood' - Test 1 (name: test4b_1-calc_mean_for_likelihood, points: 1) - Sanity\n",
      "           sepal length (cm)  sepal width (cm)  petal length (cm)  \\\n",
      "iris_type                                                           \n",
      "0                   4.982927          3.412195           1.446341   \n",
      "1                   5.961538          2.782051           4.279487   \n",
      "2                   6.505000          2.945000           5.465000   \n",
      "\n",
      "           petal width (cm)  iris_type  \n",
      "iris_type                               \n",
      "0                  0.241463          0  \n",
      "1                  1.328205          1  \n",
      "2                  2.012500          2  \n",
      "Good Job!\n",
      "You've passed the 1st test for the 'calc_mean_for_likelihood' function implementation :-)\n"
     ]
    }
   ],
   "source": [
    "# 4.b. calc_mean_for_likelihood (graded test)\n",
    "# ====>>> YOUR ACTIONS: RUN ONLY\n",
    "\n",
    "print (\"4.b.'calc_mean_for_likelihood' - Test 1 (name: test4b_1-calc_mean_for_likelihood, points: 1) - Sanity\")\n",
    "\n",
    "file_name = 'iris_train_set.csv'\n",
    "category_col_name = 'iris_type'\n",
    "\n",
    "try:\n",
    "    student_name, student_id = my_name(), my_id()\n",
    "    X, y = load_dataset(file_name, category_col_name)\n",
    "    trainset=X.copy(deep=True)\n",
    "    trainset[category_col_name]=y\n",
    "    df_mean_likelihood = calc_mean_for_likelihood(trainset,category_col_name)\n",
    "except Exception as e:\n",
    "    print ('You probably have a syntax or implementation error,  \\nerror Message:',str(e), '\\nTry fixing your code')\n",
    "    raise\n",
    "    \n",
    "print (\"Good Job!\\nYou've passed the 1st test for the 'calc_mean_for_likelihood' function implementation :-)\")   "
   ]
  },
  {
   "cell_type": "code",
   "execution_count": 24,
   "id": "34ef9f64",
   "metadata": {
    "deletable": false,
    "editable": false,
    "nbgrader": {
     "cell_type": "code",
     "checksum": "6fe93815371c01cf01344a22d001f980",
     "grade": true,
     "grade_id": "test4b_2-calc_mean_for_likelihood",
     "locked": true,
     "points": 4,
     "schema_version": 3,
     "solution": false,
     "task": false
    }
   },
   "outputs": [
    {
     "name": "stdout",
     "output_type": "stream",
     "text": [
      "4.b.'calc_mean_for_likelihood' - Test 2 (name: test4b_2-calc_mean_for_likelihood, points: 4)\n",
      "           sepal length (cm)  sepal width (cm)  petal length (cm)  \\\n",
      "iris_type                                                           \n",
      "0                   4.982927          3.412195           1.446341   \n",
      "1                   5.961538          2.782051           4.279487   \n",
      "2                   6.505000          2.945000           5.465000   \n",
      "\n",
      "           petal width (cm)  iris_type  \n",
      "iris_type                               \n",
      "0                  0.241463          0  \n",
      "1                  1.328205          1  \n",
      "2                  2.012500          2  \n",
      "Good Job!\n",
      "You've passed the 2nd test for the 'calc_mean_for_likelihood' function implementation :-)\n"
     ]
    }
   ],
   "source": [
    "# 4.b. calc_mean_for_likelihood (graded test)\n",
    "# ====>>> YOUR ACTIONS: RUN ONLY\n",
    "\n",
    "print (\"4.b.'calc_mean_for_likelihood' - Test 2 (name: test4b_2-calc_mean_for_likelihood, points: 4)\")\n",
    "\n",
    "file_name = 'iris_train_set.csv'\n",
    "category_col_name = 'iris_type'\n",
    "\n",
    "try:\n",
    "    student_name, student_id = my_name(), my_id()\n",
    "    X, y = load_dataset(file_name, category_col_name)\n",
    "    trainset=X.copy(deep=True)\n",
    "    trainset[category_col_name]=y\n",
    "    df_mean_likelihood = calc_mean_for_likelihood(trainset,category_col_name)\n",
    "except Exception as e:\n",
    "    print ('You probably have a syntax or implementation error,  \\nerror Message:',str(e), '\\nTry fixing your code')\n",
    "    raise\n",
    "\n",
    "np.testing.assert_array_equal(df_mean_likelihood.index, [0,1,2], 'bad index for df_mean_likelihood, should be equal to class names')\n",
    "np.testing.assert_array_equal(df_mean_likelihood.columns, X.columns, \"bad colmn names for df_mean_likelihood, should be equal to feature names (X's columns)\")\n",
    "    \n",
    "print (\"Good Job!\\nYou've passed the 2nd test for the 'calc_mean_for_likelihood' function implementation :-)\")        "
   ]
  },
  {
   "cell_type": "code",
   "execution_count": 25,
   "id": "cb730475",
   "metadata": {
    "deletable": false,
    "editable": false,
    "nbgrader": {
     "cell_type": "code",
     "checksum": "499889477b8f5fede48a4ffe21c10263",
     "grade": true,
     "grade_id": "test4b_3-calc_mean_for_likelihood",
     "locked": true,
     "points": 5,
     "schema_version": 3,
     "solution": false,
     "task": false
    }
   },
   "outputs": [
    {
     "name": "stdout",
     "output_type": "stream",
     "text": [
      "4.b.'calc_mean_for_likelihood' - Test 3 (name: test4b_3-calc_mean_for_likelihood, points: 5)\n",
      "           sepal length (cm)  sepal width (cm)  petal length (cm)  \\\n",
      "iris_type                                                           \n",
      "0                   4.982927          3.412195           1.446341   \n",
      "1                   5.961538          2.782051           4.279487   \n",
      "2                   6.505000          2.945000           5.465000   \n",
      "\n",
      "           petal width (cm)  iris_type  \n",
      "iris_type                               \n",
      "0                  0.241463          0  \n",
      "1                  1.328205          1  \n",
      "2                  2.012500          2  \n",
      "Good Job!\n",
      "You've passed the 3rd test for the 'calc_mean_for_likelihood' function implementation :-)\n"
     ]
    }
   ],
   "source": [
    "# 4.b. calc_mean_for_likelihood (graded test)\n",
    "# ====>>> YOUR ACTIONS: RUN ONLY\n",
    "\n",
    "print (\"4.b.'calc_mean_for_likelihood' - Test 3 (name: test4b_3-calc_mean_for_likelihood, points: 5)\")\n",
    "\n",
    "file_name = 'iris_train_set.csv'\n",
    "category_col_name = 'iris_type'\n",
    "\n",
    "try:\n",
    "    student_name, student_id = my_name(), my_id()\n",
    "    X, y = load_dataset(file_name, category_col_name)\n",
    "    trainset=X.copy(deep=True)\n",
    "    trainset[category_col_name]=y\n",
    "    df_mean_likelihood = calc_mean_for_likelihood(trainset,category_col_name)\n",
    "except Exception as e:\n",
    "    print ('You probably have a syntax or implementation error,  \\nerror Message:',str(e), '\\nTry fixing your code')\n",
    "    raise\n",
    "\n",
    "assert 6.5==np.round(df_mean_likelihood.iloc[2,0],1),\"Wrong mean value for 'sepal length' for class 2\"\n",
    "print (\"Good Job!\\nYou've passed the 3rd test for the 'calc_mean_for_likelihood' function implementation :-)\")        "
   ]
  },
  {
   "cell_type": "markdown",
   "id": "4d086dc3",
   "metadata": {
    "deletable": false,
    "editable": false,
    "nbgrader": {
     "cell_type": "markdown",
     "checksum": "47bbd314626a100a56a7e6b741f54c15",
     "grade": false,
     "grade_id": "cell-e0fc50358c01a5f5",
     "locked": true,
     "schema_version": 3,
     "solution": false,
     "task": false
    }
   },
   "source": [
    "[Go to the beginning of the assignment](#home)\n",
    "<a id=\"calc_std\"></a>\n",
    "#### 4.c. Calculate the 'std' element out of likelihood probability\n",
    "<u>method name</u>: <b>calc_std_for_likelihood</b><br/>\n",
    "\n",
    "------------\n",
    "\n",
    "<u>dependency</u>: <br/>\n",
    "* <b>my_name</b></br> \n",
    "* <b>my_id</b></br> \n",
    "* <b>load_dataset</b></br> \n",
    "\n",
    "------------\n",
    "\n",
    "<pre>\n",
    "Change the following function to return standard deviation (std) of the values for each feature\n",
    "this should be done separately for each class value (in the training set)\n",
    "    * create a df_std_likelihood, including the features as columns and classes as indexes\n",
    "    * the cells contain the standard deviation (std) values for each class and feature \n",
    "------------\n",
    "input parameter:\n",
    "- training_set - the train-set dataframe including also the target value\n",
    "- category_col_name - the category column name\n",
    "------------\n",
    "return value:\n",
    "-  a dataframe, consisting of the feature names as columns and classes as indexes\n",
    "   the cells contain the standard deviation (std) values for each class and feature \n",
    "</pre>\n",
    "    \n",
    "------------\n",
    "\n",
    "The return statement should look like this:<br/>\n",
    "<code>return df_std_likelihood</code>"
   ]
  },
  {
   "cell_type": "markdown",
   "id": "5ce14181",
   "metadata": {
    "deletable": false,
    "editable": false,
    "nbgrader": {
     "cell_type": "markdown",
     "checksum": "b1a19e054df7b01102561098ec4372f5",
     "grade": false,
     "grade_id": "cell-a450a21f7970e532",
     "locked": true,
     "schema_version": 3,
     "solution": false,
     "task": false
    }
   },
   "source": [
    "##### 4.c. calc_std_for_likelihood - OPTIONAL  ASSISTANCE  - Implement & Run the following cell (IF NEEDED):"
   ]
  },
  {
   "cell_type": "code",
   "execution_count": 26,
   "id": "45fee63b",
   "metadata": {
    "deletable": false,
    "nbgrader": {
     "cell_type": "code",
     "checksum": "df5191960133299eaf06e719aa34e797",
     "grade": false,
     "grade_id": "cell-75cf95e220b98450",
     "locked": false,
     "schema_version": 3,
     "solution": true,
     "task": false
    }
   },
   "outputs": [],
   "source": [
    "# 4.c. calc_std_for_likelihood (optional assitance for your solution)\n",
    "# ====>>> YOUR ACTIONS: (optional) IMPLEMENT & RUN \n",
    "\n",
    "# ---- Add assistance code here IF NEEDED:\n",
    "# YOUR CODE HERE\n"
   ]
  },
  {
   "cell_type": "markdown",
   "id": "be2ab2f5",
   "metadata": {
    "deletable": false,
    "editable": false,
    "nbgrader": {
     "cell_type": "markdown",
     "checksum": "228b8c1ba0fc9dc1b3304626d5b172d3",
     "grade": false,
     "grade_id": "cell-4b73e63147da07e1",
     "locked": true,
     "schema_version": 3,
     "solution": false,
     "task": false
    }
   },
   "source": [
    "##### 4.c. calc_std_for_likelihood - YOUR SOLUTION - Implement and Run the following code cell:"
   ]
  },
  {
   "cell_type": "code",
   "execution_count": 27,
   "id": "606b0b72",
   "metadata": {
    "deletable": false,
    "nbgrader": {
     "cell_type": "code",
     "checksum": "17043c6eab21852e5c43d8a09fca21dd",
     "grade": false,
     "grade_id": "sol4c-calc_std_for_likelihood",
     "locked": false,
     "schema_version": 3,
     "solution": true,
     "task": false
    }
   },
   "outputs": [],
   "source": [
    "# 4.c. calc_std_for_likelihood (your solution)\n",
    "# ====>>> YOUR ACTIONS: IMPLEMENT & RUN\n",
    "\n",
    "def calc_std_for_likelihood(training_set, category_col_name):\n",
    "    # YOUR CODE HERE\n",
    "    grouped_stds = training_set.groupby(category_col_name).std()\n",
    "    grouped_stds['iris_type'] = [0,1,2] \n",
    "    print(grouped_stds)\n",
    "    return(grouped_stds)"
   ]
  },
  {
   "cell_type": "markdown",
   "id": "aa82e09d",
   "metadata": {
    "deletable": false,
    "editable": false,
    "nbgrader": {
     "cell_type": "markdown",
     "checksum": "5cf36a4a6276000b4bb89a11bb1a03d3",
     "grade": false,
     "grade_id": "cell-635b467280b8c6a6",
     "locked": true,
     "schema_version": 3,
     "solution": false,
     "task": false
    }
   },
   "source": [
    "##### 4.c. calc_std_for_likelihood - OPTIONAL SELF TEST - Implement and Run the following code cell (IF NEEDED):"
   ]
  },
  {
   "cell_type": "code",
   "execution_count": 28,
   "id": "08a6fafb",
   "metadata": {
    "deletable": false,
    "nbgrader": {
     "cell_type": "code",
     "checksum": "019ff92815117607bfd29d573ec40e60",
     "grade": false,
     "grade_id": "cell-21811508fed055de",
     "locked": false,
     "schema_version": 3,
     "solution": true,
     "task": false
    }
   },
   "outputs": [
    {
     "name": "stdout",
     "output_type": "stream",
     "text": [
      "           sepal length (cm)  sepal width (cm)  petal length (cm)  \\\n",
      "iris_type                                                           \n",
      "0                   0.376100          0.395724           0.162938   \n",
      "1                   0.499271          0.322712           0.501146   \n",
      "2                   0.599551          0.314561           0.528932   \n",
      "\n",
      "           petal width (cm)  iris_type  \n",
      "iris_type                               \n",
      "0                  0.104823          0  \n",
      "1                  0.212688          1  \n",
      "2                  0.270979          2  \n"
     ]
    }
   ],
   "source": [
    "# 4.c. calc_std_for_likelihood (optional self testing)\n",
    "# ====>>> YOUR ACTIONS: (optional) IMPLEMENT & RUN \n",
    "\n",
    "file_name = 'iris_train_set.csv'\n",
    "category_col_name = 'iris_type'\n",
    "student_name, student_id = my_name(), my_id()\n",
    "X, y = load_dataset(file_name, category_col_name)\n",
    "trainset=X.copy(deep=True)\n",
    "trainset[category_col_name]=y\n",
    "df_std_likelihood = calc_std_for_likelihood(trainset,category_col_name)\n",
    "# --- add additional code to check your code if needed:\n",
    "# YOUR CODE HERE\n"
   ]
  },
  {
   "cell_type": "markdown",
   "id": "a4a7c2a5",
   "metadata": {
    "deletable": false,
    "editable": false,
    "nbgrader": {
     "cell_type": "markdown",
     "checksum": "6449c1160cef61b8d557b3f5921b4e27",
     "grade": false,
     "grade_id": "cell-ae1c365ae61a39e1",
     "locked": true,
     "schema_version": 3,
     "solution": false,
     "task": false
    }
   },
   "source": [
    "##### 4.c. calc_std_for_likelihood - GRADED TESTS - Run the following (3) code cells:"
   ]
  },
  {
   "cell_type": "code",
   "execution_count": 29,
   "id": "14d00726",
   "metadata": {
    "deletable": false,
    "editable": false,
    "nbgrader": {
     "cell_type": "code",
     "checksum": "1a4d6c4d064bcde749fa7512e5117be7",
     "grade": true,
     "grade_id": "test4c_1-calc_std_for_likelihood",
     "locked": true,
     "points": 1,
     "schema_version": 3,
     "solution": false,
     "task": false
    }
   },
   "outputs": [
    {
     "name": "stdout",
     "output_type": "stream",
     "text": [
      "4.c.'calc_std_for_likelihood' - Test 1 (name: test4c_1-calc_std_for_likelihood, points: 1) - Sanity\n",
      "           sepal length (cm)  sepal width (cm)  petal length (cm)  \\\n",
      "iris_type                                                           \n",
      "0                   0.376100          0.395724           0.162938   \n",
      "1                   0.499271          0.322712           0.501146   \n",
      "2                   0.599551          0.314561           0.528932   \n",
      "\n",
      "           petal width (cm)  iris_type  \n",
      "iris_type                               \n",
      "0                  0.104823          0  \n",
      "1                  0.212688          1  \n",
      "2                  0.270979          2  \n",
      "Good Job!\n",
      "You've passed the 1st test for the 'calc_std_for_likelihood' function implementation :-)\n"
     ]
    }
   ],
   "source": [
    "# 4.c. calc_std_for_likelihood (graded test)\n",
    "# ====>>> YOUR ACTIONS: RUN ONLY\n",
    "\n",
    "print (\"4.c.'calc_std_for_likelihood' - Test 1 (name: test4c_1-calc_std_for_likelihood, points: 1) - Sanity\")\n",
    "\n",
    "file_name = 'iris_train_set.csv'\n",
    "category_col_name = 'iris_type'\n",
    "\n",
    "try:\n",
    "    student_name, student_id = my_name(), my_id()\n",
    "    X, y = load_dataset(file_name, category_col_name)\n",
    "    trainset=X.copy(deep=True)\n",
    "    trainset[category_col_name]=y\n",
    "    df_std_likelihood = calc_std_for_likelihood(trainset,category_col_name)\n",
    "except Exception as e:\n",
    "    print ('You probably have a syntax or implementation error,  \\nerror Message:',str(e), '\\nTry fixing your code')\n",
    "    raise\n",
    "    \n",
    "print (\"Good Job!\\nYou've passed the 1st test for the 'calc_std_for_likelihood' function implementation :-)\")   "
   ]
  },
  {
   "cell_type": "code",
   "execution_count": 30,
   "id": "a656285e",
   "metadata": {
    "deletable": false,
    "editable": false,
    "nbgrader": {
     "cell_type": "code",
     "checksum": "4d148fd764e3ff9bee155ed9cab957d7",
     "grade": true,
     "grade_id": "test4c_2-calc_std_for_likelihood",
     "locked": true,
     "points": 4,
     "schema_version": 3,
     "solution": false,
     "task": false
    }
   },
   "outputs": [
    {
     "name": "stdout",
     "output_type": "stream",
     "text": [
      "4.c.'calc_std_for_likelihood' - Test 2 (name: test4c_2-calc_std_for_likelihood, points: 4)\n",
      "           sepal length (cm)  sepal width (cm)  petal length (cm)  \\\n",
      "iris_type                                                           \n",
      "0                   0.376100          0.395724           0.162938   \n",
      "1                   0.499271          0.322712           0.501146   \n",
      "2                   0.599551          0.314561           0.528932   \n",
      "\n",
      "           petal width (cm)  iris_type  \n",
      "iris_type                               \n",
      "0                  0.104823          0  \n",
      "1                  0.212688          1  \n",
      "2                  0.270979          2  \n",
      "Good Job!\n",
      "You've passed the 2nd test for the 'calc_std_for_likelihood' function implementation :-)\n"
     ]
    }
   ],
   "source": [
    "# 4.c. calc_mean_for_likelihood (graded test)\n",
    "# ====>>> YOUR ACTIONS: RUN ONLY\n",
    "\n",
    "print (\"4.c.'calc_std_for_likelihood' - Test 2 (name: test4c_2-calc_std_for_likelihood, points: 4)\")\n",
    "\n",
    "file_name = 'iris_train_set.csv'\n",
    "category_col_name = 'iris_type'\n",
    "\n",
    "try:\n",
    "    student_name, student_id = my_name(), my_id()\n",
    "    X, y = load_dataset(file_name, category_col_name)\n",
    "    trainset=X.copy(deep=True)\n",
    "    trainset[category_col_name]=y\n",
    "    df_std_likelihood = calc_std_for_likelihood(trainset,category_col_name)\n",
    "except Exception as e:\n",
    "    print ('You probably have a syntax or implementation error,  \\nerror Message:',str(e), '\\nTry fixing your code')\n",
    "    raise\n",
    "\n",
    "np.testing.assert_array_equal(df_std_likelihood.index, [0,1,2], 'bad index for df_std_likelihood, should be equal to class names')\n",
    "np.testing.assert_array_equal(df_std_likelihood.columns, X.columns, \"bad colmn names for df_std_likelihood, should be equal to feature names (X's columns)\")\n",
    "    \n",
    "print (\"Good Job!\\nYou've passed the 2nd test for the 'calc_std_for_likelihood' function implementation :-)\")        "
   ]
  },
  {
   "cell_type": "code",
   "execution_count": 31,
   "id": "e70a927c",
   "metadata": {
    "deletable": false,
    "editable": false,
    "nbgrader": {
     "cell_type": "code",
     "checksum": "619d3154abdf13d633f7deadeb264051",
     "grade": true,
     "grade_id": "test4c_3-calc_std_for_likelihood",
     "locked": true,
     "points": 5,
     "schema_version": 3,
     "solution": false,
     "task": false
    }
   },
   "outputs": [
    {
     "name": "stdout",
     "output_type": "stream",
     "text": [
      "4.c.'calc_std_for_likelihood' - Test 3 (name: test4c_3-calc_std_for_likelihood, points: 5)\n",
      "           sepal length (cm)  sepal width (cm)  petal length (cm)  \\\n",
      "iris_type                                                           \n",
      "0                   0.376100          0.395724           0.162938   \n",
      "1                   0.499271          0.322712           0.501146   \n",
      "2                   0.599551          0.314561           0.528932   \n",
      "\n",
      "           petal width (cm)  iris_type  \n",
      "iris_type                               \n",
      "0                  0.104823          0  \n",
      "1                  0.212688          1  \n",
      "2                  0.270979          2  \n",
      "Good Job!\n",
      "You've passed the 3rd test for the 'calc_std_for_likelihood' function implementation :-)\n"
     ]
    }
   ],
   "source": [
    "# 4.c. calc_mean_for_likelihood (graded test)\n",
    "# ====>>> YOUR ACTIONS: RUN ONLY\n",
    "\n",
    "print (\"4.c.'calc_std_for_likelihood' - Test 3 (name: test4c_3-calc_std_for_likelihood, points: 5)\")\n",
    "\n",
    "file_name = 'iris_train_set.csv'\n",
    "category_col_name = 'iris_type'\n",
    "\n",
    "try:\n",
    "    student_name, student_id = my_name(), my_id()\n",
    "    X, y = load_dataset(file_name, category_col_name)\n",
    "    trainset=X.copy(deep=True)\n",
    "    trainset[category_col_name]=y\n",
    "    df_std_likelihood = calc_std_for_likelihood(trainset,category_col_name)\n",
    "except Exception as e:\n",
    "    print ('You probably have a syntax or implementation error,  \\nerror Message:',str(e), '\\nTry fixing your code')\n",
    "    raise\n",
    "\n",
    "assert 0.501==np.round(df_std_likelihood.iloc[1,2],3),\"Wrong mean value for 'petal length' for class 1\"\n",
    "    \n",
    "print (\"Good Job!\\nYou've passed the 3rd test for the 'calc_std_for_likelihood' function implementation :-)\")        "
   ]
  },
  {
   "cell_type": "markdown",
   "id": "d8aa7def",
   "metadata": {
    "deletable": false,
    "editable": false,
    "nbgrader": {
     "cell_type": "markdown",
     "checksum": "cf4887a279dbf948731f68da0bc516a8",
     "grade": false,
     "grade_id": "cell-cd8ab9ee7a4b9f1d",
     "locked": true,
     "schema_version": 3,
     "solution": false,
     "task": false
    }
   },
   "source": [
    "[Go to the beginning of the assignment](#home)\n",
    "<a id=\"fit\"></a>\n",
    "#### 4.d. Gaussian Naive Bayes main training flow\n",
    "<u>method name</u>: <b>fit</b><br/>\n",
    "\n",
    "------------\n",
    "\n",
    "<u>dependency</u>: <br/>\n",
    "* <b>my_name</b></br> \n",
    "* <b>my_id</b></br> \n",
    "* <b>load_dataset</b></br> \n",
    "* <b>calc_class_priors</b></br> \n",
    "* <b>calc_mean_for_likelihood</b></br> \n",
    "* <b>calc_std_for_likelihood</b></br> \n",
    "\n",
    "------------\n",
    "\n",
    "<pre>\n",
    "Change the following function to return the 3 products of the Gaussian Naive Bayes training.\n",
    "The method needs to calculate and return the products from the 3 previous methods you've \n",
    "implemented in the previous cells, including calc_category_priors, calc_mean_for_likelihood, calc_std_for_likelihood.\n",
    "Please check the expected output for these methods.\n",
    "------------\n",
    "input parameter:\n",
    "- training_set - the train-set dataframe including also the target value\n",
    "- category_col_name - the category column name\n",
    "------------\n",
    "return values (comma seperated):\n",
    "- lst_class_prior    - output from calc_category_priors\n",
    "- df_mean_likelihood - output from calc_mean_likelihood\n",
    "- df_std_likelihood  - output from calc_std_likelihood\n",
    "</pre>\n",
    "    \n",
    "------------\n",
    "\n",
    "The return statement should look like this:<br/>\n",
    "<code>return lst_class_prior,df_mean_likelihood,df_std_likelihood</code>"
   ]
  },
  {
   "cell_type": "markdown",
   "id": "99b33ce3",
   "metadata": {
    "deletable": false,
    "editable": false,
    "nbgrader": {
     "cell_type": "markdown",
     "checksum": "57c8698f868df9de4c1d7fa32d1d1fbb",
     "grade": false,
     "grade_id": "cell-2a39dad44d3207f6",
     "locked": true,
     "schema_version": 3,
     "solution": false,
     "task": false
    }
   },
   "source": [
    "##### 4.d. fit - OPTIONAL  ASSISTANCE  - Implement & Run the following cell (IF NEEDED):"
   ]
  },
  {
   "cell_type": "code",
   "execution_count": 32,
   "id": "f66b6f0e",
   "metadata": {
    "deletable": false,
    "nbgrader": {
     "cell_type": "code",
     "checksum": "cfa134cba3e62cc5388be37bdf9d6f1c",
     "grade": false,
     "grade_id": "cell-8ba5cac83a654b63",
     "locked": false,
     "schema_version": 3,
     "solution": true,
     "task": false
    }
   },
   "outputs": [],
   "source": [
    "# 4.d. fit (optional assitance for your solution)\n",
    "# ====>>> YOUR ACTIONS: (optional) IMPLEMENT & RUN \n",
    "\n",
    "# ---- Add assistance code here IF NEEDED:\n",
    "# YOUR CODE HERE\n"
   ]
  },
  {
   "cell_type": "markdown",
   "id": "b23e31cc",
   "metadata": {
    "deletable": false,
    "editable": false,
    "nbgrader": {
     "cell_type": "markdown",
     "checksum": "6f6deb8476efbbc89cadec5f917b39ba",
     "grade": false,
     "grade_id": "cell-4af30e1339ca04d2",
     "locked": true,
     "schema_version": 3,
     "solution": false,
     "task": false
    }
   },
   "source": [
    "##### 4.d. fit - YOUR SOLUTION - Implement and Run the following code cell:"
   ]
  },
  {
   "cell_type": "code",
   "execution_count": 33,
   "id": "895fbca0",
   "metadata": {
    "deletable": false,
    "nbgrader": {
     "cell_type": "code",
     "checksum": "8b08932f602352d624e0bf71601ea581",
     "grade": false,
     "grade_id": "sol4d-fit",
     "locked": false,
     "schema_version": 3,
     "solution": true,
     "task": false
    }
   },
   "outputs": [],
   "source": [
    "# 4.d. fit (your solution)\n",
    "# ====>>> YOUR ACTIONS: IMPLEMENT & RUN\n",
    "\n",
    "def fit(training_set,category_col_name):\n",
    "    # YOUR CODE HERE\n",
    "    df_std_likelihood = calc_std_for_likelihood(training_set,category_col_name)\n",
    "    df_mean_likelihood = calc_mean_for_likelihood(training_set,category_col_name)\n",
    "    lst_class_prior = calc_class_priors(training_set,[0,1,2])\n",
    "    \n",
    "    return lst_class_prior,df_mean_likelihood,df_std_likelihood"
   ]
  },
  {
   "cell_type": "markdown",
   "id": "16c3637c",
   "metadata": {
    "deletable": false,
    "editable": false,
    "nbgrader": {
     "cell_type": "markdown",
     "checksum": "ec15af98ef788ae7e1ebcc835cdd687e",
     "grade": false,
     "grade_id": "cell-2b0dff350432c764",
     "locked": true,
     "schema_version": 3,
     "solution": false,
     "task": false
    }
   },
   "source": [
    "##### 4.d. fit - OPTIONAL SELF TEST - Implement and Run the following code cell (IF NEEDED):"
   ]
  },
  {
   "cell_type": "code",
   "execution_count": 34,
   "id": "77cb682c",
   "metadata": {
    "deletable": false,
    "nbgrader": {
     "cell_type": "code",
     "checksum": "7dcb5675147e02f43b3da688f31f8b42",
     "grade": false,
     "grade_id": "cell-a916eb1dd94353b6",
     "locked": false,
     "schema_version": 3,
     "solution": true,
     "task": false
    }
   },
   "outputs": [
    {
     "name": "stdout",
     "output_type": "stream",
     "text": [
      "           sepal length (cm)  sepal width (cm)  petal length (cm)  \\\n",
      "iris_type                                                           \n",
      "0                   0.376100          0.395724           0.162938   \n",
      "1                   0.499271          0.322712           0.501146   \n",
      "2                   0.599551          0.314561           0.528932   \n",
      "\n",
      "           petal width (cm)  iris_type  \n",
      "iris_type                               \n",
      "0                  0.104823          0  \n",
      "1                  0.212688          1  \n",
      "2                  0.270979          2  \n",
      "           sepal length (cm)  sepal width (cm)  petal length (cm)  \\\n",
      "iris_type                                                           \n",
      "0                   4.982927          3.412195           1.446341   \n",
      "1                   5.961538          2.782051           4.279487   \n",
      "2                   6.505000          2.945000           5.465000   \n",
      "\n",
      "           petal width (cm)  iris_type  \n",
      "iris_type                               \n",
      "0                  0.241463          0  \n",
      "1                  1.328205          1  \n",
      "2                  2.012500          2  \n"
     ]
    }
   ],
   "source": [
    "# 4.d. fit (optional self testing)\n",
    "# ====>>> YOUR ACTIONS: (optional) IMPLEMENT & RUN \n",
    "\n",
    "file_name = 'iris_train_set.csv'\n",
    "category_col_name = 'iris_type'\n",
    "student_name, student_id = my_name(), my_id()\n",
    "X, y = load_dataset(file_name, category_col_name)\n",
    "trainset=X.copy(deep=True)\n",
    "trainset[category_col_name]=y\n",
    "lst_class_prior,df_mean_likelihood,df_std_likelihood = fit(trainset,category_col_name)\n",
    "# --- add additional code to check your code if needed:\n",
    "# YOUR CODE HERE\n"
   ]
  },
  {
   "cell_type": "markdown",
   "id": "44c58b91",
   "metadata": {
    "deletable": false,
    "editable": false,
    "nbgrader": {
     "cell_type": "markdown",
     "checksum": "b11e1610c6a06a8f7979fa50f7658974",
     "grade": false,
     "grade_id": "cell-3b1a12a20cc2c518",
     "locked": true,
     "schema_version": 3,
     "solution": false,
     "task": false
    }
   },
   "source": [
    "##### 4.d. fit - GRADED TESTS - Run the following (3) code cells:"
   ]
  },
  {
   "cell_type": "code",
   "execution_count": 35,
   "id": "bd146ff6",
   "metadata": {
    "deletable": false,
    "editable": false,
    "nbgrader": {
     "cell_type": "code",
     "checksum": "22ffe3cb8930dc7c8f05784928294003",
     "grade": true,
     "grade_id": "test4d_1-fit",
     "locked": true,
     "points": 1,
     "schema_version": 3,
     "solution": false,
     "task": false
    }
   },
   "outputs": [
    {
     "name": "stdout",
     "output_type": "stream",
     "text": [
      "4.d.'fit' - Test 1 (name: test4d_1-fit, points: 1) - Sanity\n",
      "           sepal length (cm)  sepal width (cm)  petal length (cm)  \\\n",
      "iris_type                                                           \n",
      "0                   0.376100          0.395724           0.162938   \n",
      "1                   0.499271          0.322712           0.501146   \n",
      "2                   0.599551          0.314561           0.528932   \n",
      "\n",
      "           petal width (cm)  iris_type  \n",
      "iris_type                               \n",
      "0                  0.104823          0  \n",
      "1                  0.212688          1  \n",
      "2                  0.270979          2  \n",
      "           sepal length (cm)  sepal width (cm)  petal length (cm)  \\\n",
      "iris_type                                                           \n",
      "0                   4.982927          3.412195           1.446341   \n",
      "1                   5.961538          2.782051           4.279487   \n",
      "2                   6.505000          2.945000           5.465000   \n",
      "\n",
      "           petal width (cm)  iris_type  \n",
      "iris_type                               \n",
      "0                  0.241463          0  \n",
      "1                  1.328205          1  \n",
      "2                  2.012500          2  \n",
      "Good Job!\n",
      "You've passed the 1st test for the 'fit' function implementation :-)\n"
     ]
    }
   ],
   "source": [
    "# 4.d. fit (graded test)\n",
    "# ====>>> YOUR ACTIONS: RUN ONLY\n",
    "\n",
    "print (\"4.d.'fit' - Test 1 (name: test4d_1-fit, points: 1) - Sanity\")\n",
    "\n",
    "file_name = 'iris_train_set.csv'\n",
    "category_col_name = 'iris_type'\n",
    "\n",
    "try:\n",
    "    student_name, student_id = my_name(), my_id()\n",
    "    X, y = load_dataset(file_name, category_col_name)\n",
    "    trainset=X.copy(deep=True)\n",
    "    trainset[category_col_name]=y\n",
    "    lst_class_prior,df_mean_likelihood,df_std_likelihood = fit(trainset,category_col_name)\n",
    "except Exception as e:\n",
    "    print ('You probably have a syntax or implementation error,  \\nerror Message:',str(e), '\\nTry fixing your code')\n",
    "    raise\n",
    "    \n",
    "print (\"Good Job!\\nYou've passed the 1st test for the 'fit' function implementation :-)\")   "
   ]
  },
  {
   "cell_type": "code",
   "execution_count": 36,
   "id": "99c0719a",
   "metadata": {
    "deletable": false,
    "editable": false,
    "nbgrader": {
     "cell_type": "code",
     "checksum": "4064f43de8034ab7437ad9191904bacf",
     "grade": true,
     "grade_id": "test4c_2-fit",
     "locked": true,
     "points": 4,
     "schema_version": 3,
     "solution": false,
     "task": false
    }
   },
   "outputs": [
    {
     "name": "stdout",
     "output_type": "stream",
     "text": [
      "4.d.'fit' - Test 2 (name: test4c_2-fit, points: 4)\n",
      "           sepal length (cm)  sepal width (cm)  petal length (cm)  \\\n",
      "iris_type                                                           \n",
      "0                   0.376100          0.395724           0.162938   \n",
      "1                   0.499271          0.322712           0.501146   \n",
      "2                   0.599551          0.314561           0.528932   \n",
      "\n",
      "           petal width (cm)  iris_type  \n",
      "iris_type                               \n",
      "0                  0.104823          0  \n",
      "1                  0.212688          1  \n",
      "2                  0.270979          2  \n",
      "           sepal length (cm)  sepal width (cm)  petal length (cm)  \\\n",
      "iris_type                                                           \n",
      "0                   4.982927          3.412195           1.446341   \n",
      "1                   5.961538          2.782051           4.279487   \n",
      "2                   6.505000          2.945000           5.465000   \n",
      "\n",
      "           petal width (cm)  iris_type  \n",
      "iris_type                               \n",
      "0                  0.241463          0  \n",
      "1                  1.328205          1  \n",
      "2                  2.012500          2  \n",
      "Good Job!\n",
      "You've passed the 2nd test for the 'fit' function implementation :-)\n"
     ]
    }
   ],
   "source": [
    "# 4.d. fit (graded test)\n",
    "# ====>>> YOUR ACTIONS: RUN ONLY\n",
    "\n",
    "print (\"4.d.'fit' - Test 2 (name: test4c_2-fit, points: 4)\")\n",
    "\n",
    "file_name = 'iris_train_set.csv'\n",
    "category_col_name = 'iris_type'\n",
    "\n",
    "try:\n",
    "    student_name, student_id = my_name(), my_id()\n",
    "    X, y = load_dataset(file_name, category_col_name)\n",
    "    trainset=X.copy(deep=True)\n",
    "    trainset[category_col_name]=y\n",
    "    lst_class_prior,df_mean_likelihood,df_std_likelihood = fit(trainset,category_col_name)\n",
    "except Exception as e:\n",
    "    print ('You probably have a syntax or implementation error,  \\nerror Message:',str(e), '\\nTry fixing your code')\n",
    "    raise\n",
    "\n",
    "assert len(lst_priors)==3,'there should be 3 class priors'\n",
    "\n",
    "np.testing.assert_array_equal(df_mean_likelihood.index, [0,1,2], 'bad index for df_mean_likelihood, should be equal to class names')\n",
    "np.testing.assert_array_equal(df_mean_likelihood.columns, X.columns, \"bad colmn names for df_mean_likelihood, should be equal to feature names (X's columns)\")\n",
    "\n",
    "np.testing.assert_array_equal(df_std_likelihood.index, [0,1,2], 'bad index for df_std_likelihood, should be equal to class names')\n",
    "np.testing.assert_array_equal(df_std_likelihood.columns, X.columns, \"bad colmn names for df_std_likelihood, should be equal to feature names (X's columns)\")\n",
    "\n",
    "    \n",
    "print (\"Good Job!\\nYou've passed the 2nd test for the 'fit' function implementation :-)\")        "
   ]
  },
  {
   "cell_type": "code",
   "execution_count": 37,
   "id": "32278eec",
   "metadata": {
    "deletable": false,
    "editable": false,
    "nbgrader": {
     "cell_type": "code",
     "checksum": "273b29c9042e8743c67f9e17b39a88c6",
     "grade": true,
     "grade_id": "test4c_3-fit",
     "locked": true,
     "points": 5,
     "schema_version": 3,
     "solution": false,
     "task": false
    }
   },
   "outputs": [
    {
     "name": "stdout",
     "output_type": "stream",
     "text": [
      "4.d.'fit' - Test 3 (name: test4c_3-fit, points: 5)\n",
      "           sepal length (cm)  sepal width (cm)  petal length (cm)  \\\n",
      "iris_type                                                           \n",
      "0                   0.376100          0.395724           0.162938   \n",
      "1                   0.499271          0.322712           0.501146   \n",
      "2                   0.599551          0.314561           0.528932   \n",
      "\n",
      "           petal width (cm)  iris_type  \n",
      "iris_type                               \n",
      "0                  0.104823          0  \n",
      "1                  0.212688          1  \n",
      "2                  0.270979          2  \n",
      "           sepal length (cm)  sepal width (cm)  petal length (cm)  \\\n",
      "iris_type                                                           \n",
      "0                   4.982927          3.412195           1.446341   \n",
      "1                   5.961538          2.782051           4.279487   \n",
      "2                   6.505000          2.945000           5.465000   \n",
      "\n",
      "           petal width (cm)  iris_type  \n",
      "iris_type                               \n",
      "0                  0.241463          0  \n",
      "1                  1.328205          1  \n",
      "2                  2.012500          2  \n",
      "Good Job!\n",
      "You've passed the 3rd test for the 'fit' function implementation :-)\n"
     ]
    }
   ],
   "source": [
    "# 4.d. fit (graded test)\n",
    "# ====>>> YOUR ACTIONS: RUN ONLY\n",
    "\n",
    "print (\"4.d.'fit' - Test 3 (name: test4c_3-fit, points: 5)\")\n",
    "\n",
    "file_name = 'iris_train_set.csv'\n",
    "category_col_name = 'iris_type'\n",
    "\n",
    "try:\n",
    "    student_name, student_id = my_name(), my_id()\n",
    "    X, y = load_dataset(file_name, category_col_name)\n",
    "    trainset=X.copy(deep=True)\n",
    "    trainset[category_col_name]=y\n",
    "    lst_class_prior,df_mean_likelihood,df_std_likelihood = fit(trainset,category_col_name)\n",
    "except Exception as e:\n",
    "    print ('You probably have a syntax or implementation error,  \\nerror Message:',str(e), '\\nTry fixing your code')\n",
    "    raise\n",
    "\n",
    "assert 0.34==np.round(lst_priors[0],2),'wrong prior for class-0'\n",
    "assert 6.5==np.round(df_mean_likelihood.iloc[2,0],1),\"Wrong mean value for 'sepal length' for class 2\"\n",
    "assert 0.501==np.round(df_std_likelihood.iloc[1,2],3),\"Wrong mean value for 'petal length' for class 1\"\n",
    "    \n",
    "print (\"Good Job!\\nYou've passed the 3rd test for the 'fit' function implementation :-)\")        "
   ]
  },
  {
   "cell_type": "markdown",
   "id": "da772158",
   "metadata": {
    "deletable": false,
    "editable": false,
    "nbgrader": {
     "cell_type": "markdown",
     "checksum": "8afbf0044841b673d284faa3c637d79f",
     "grade": false,
     "grade_id": "cell-5336e8a88c94f9f0",
     "locked": true,
     "schema_version": 3,
     "solution": false,
     "task": false
    }
   },
   "source": [
    "### Part 5 - predict \n",
    "  * Calculate Guassian likelihood probability \n",
    "  * Calculate a posteriori probabilities \n",
    "  * prdict"
   ]
  },
  {
   "cell_type": "markdown",
   "id": "51ab16f9",
   "metadata": {
    "deletable": false,
    "editable": false,
    "nbgrader": {
     "cell_type": "markdown",
     "checksum": "551ccaaf78753621c7e0e2aa27432509",
     "grade": false,
     "grade_id": "cell-ae80aed859741a36",
     "locked": true,
     "schema_version": 3,
     "solution": false,
     "task": false
    }
   },
   "source": [
    "[Go to the beginning of the assignment](#home)\n",
    "<a id=\"calc_gaussian_pdf_prob\"></a>\n",
    "#### 5.a. Calculate Gaussian likelihood PDF (instead of dependent prob. for continues variables)\n",
    "\n",
    "<u>method name</u> <b>calc_gaussian_pdf_prob</b>\n",
    "\n",
    "------------\n",
    "\n",
    "<pre>\n",
    "The following function uses the mean & std likelihood values to return the Gaussian PDF \n",
    "    (which replaces the probablilty function for continues variables).\n",
    "The PDF calculated replaces the dependent probability such as pr(x_j|c), where x_j is a value for the\n",
    "    feature x_j and c is a specific values of a class.\n",
    "------------\n",
    "input parameter:\n",
    "- x_feature_val - a scalar value for a specific feature\n",
    "- feature_mean  - the mean of the feature (in the training data) for a specific class\n",
    "- feature_std   - the std of the feature (in the training data) for a specific class\n",
    "------------\n",
    "return value:\n",
    "- pdf_val - the pdf calculated value\n",
    "</pre>"
   ]
  },
  {
   "cell_type": "markdown",
   "id": "d61689d0",
   "metadata": {
    "deletable": false,
    "editable": false,
    "nbgrader": {
     "cell_type": "markdown",
     "checksum": "7457f5426b44fac2afcc5559762c2043",
     "grade": false,
     "grade_id": "cell-0fe4ab55efae1d4f",
     "locked": true,
     "schema_version": 3,
     "solution": false,
     "task": false
    }
   },
   "source": [
    "##### 5.a. Calculate Gaussian likelihood PDF - Run the following code cell:"
   ]
  },
  {
   "cell_type": "code",
   "execution_count": 71,
   "id": "75b3fb19",
   "metadata": {
    "deletable": false,
    "editable": false,
    "nbgrader": {
     "cell_type": "code",
     "checksum": "a149862f494540a9dce180706927253e",
     "grade": false,
     "grade_id": "cell-3097e2ec67baf0e4",
     "locked": true,
     "schema_version": 3,
     "solution": false,
     "task": false
    }
   },
   "outputs": [],
   "source": [
    "# 5.a. calc_gaussian_pdf_prob (Calculate \"dependent\" Gaussian likelihood PDF) \n",
    "# ====>>> YOUR ACTIONS: RUN ONLY\n",
    "\n",
    "def calc_gaussian_pdf_prob(x_feature_val, feature_mean, feature_std):\n",
    "    exponent = np.exp(-((x_feature_val-feature_mean)**2 / (2 * feature_std**2 )))\n",
    "    return (1 / ((2 * np.pi)**(1/2) * feature_std)) * exponent"
   ]
  },
  {
   "cell_type": "markdown",
   "id": "cf846bc2",
   "metadata": {
    "deletable": false,
    "editable": false,
    "nbgrader": {
     "cell_type": "markdown",
     "checksum": "1eef195873ebf6bd3e0a3f4575c5e37b",
     "grade": false,
     "grade_id": "cell-eb77737e57377935",
     "locked": true,
     "schema_version": 3,
     "solution": false,
     "task": false
    }
   },
   "source": [
    "[Go to the beginning of the assignment](#home)\n",
    "<a id=\"calc_aposterior\"></a>\n",
    "#### 5.b. Calculate a-posterior probabilities\n",
    "<u>method name</u>: <b>calc_aposterior_probs</b><br/>\n",
    "\n",
    "------------\n",
    "\n",
    "<u>dependency</u>: <br/>\n",
    "* <b>my_name</b></br> \n",
    "* <b>my_id</b></br> \n",
    "* <b>load_dataset</b></br> \n",
    "\n",
    "For tests:\n",
    "* <b>calc_class_priors</b></br> \n",
    "* <b>calc_mean_for_likelihood</b></br> \n",
    "* <b>calc_std_for_likelihood</b></br>  \n",
    "* <b>fit</b></br> \n",
    "\n",
    "------------\n",
    "\n",
    "<pre>\n",
    "The following function should create a probability matrix to store the results.\n",
    "To do that create a dataframe with the categories as columns and test indexes ans indexes.\n",
    "The value of the cells should be a multiplication between the class prior and the Gaussian probabilities of all the features (using the  'calc_gaussian_pdf_prob' method, for each pr(x[j]|c) probability) for a specific test feature vector (i.e., Gaussian probabilities for feature values of every row).\n",
    "The outcome is the a-posterior probabilities for each feature vector (one for each class). \n",
    "Please check the expected output for these methods.\n",
    "------------\n",
    "input parameters:\n",
    "- X_test - the test-set feature-vectors dataframe\n",
    "- lst_class_priors - the trained class priors\n",
    "- df_trained_mean - the dataframe of the trained means for each feature per each class\n",
    "- df_trained_std - the dataframe of the trained std values, for each feature per each class\n",
    "- lst_class_vals - A simple python list, containing the possible category values. \n",
    "               remark: for the iris case it includes: [0,1,2]\n",
    "------------\n",
    "return value:\n",
    "- df_aposterior_probs -  a dataframe containing a-posterior probabilities per class, per test feature vector \n",
    "</pre>\n",
    "    \n",
    "------------\n",
    "\n",
    "The return statement should look like this:<br/>\n",
    "<code>return df_aposterior_probs</code>"
   ]
  },
  {
   "cell_type": "markdown",
   "id": "af7d3104",
   "metadata": {
    "deletable": false,
    "editable": false,
    "nbgrader": {
     "cell_type": "markdown",
     "checksum": "fec02c335a7466ee7a34d49615ee42fa",
     "grade": false,
     "grade_id": "cell-54b49d82f310a5e8",
     "locked": true,
     "schema_version": 3,
     "solution": false,
     "task": false
    }
   },
   "source": [
    "##### 5.b. calc_aposterior_probs - OPTIONAL  ASSISTANCE  - Implement & Run the following cell (IF NEEDED):"
   ]
  },
  {
   "cell_type": "code",
   "execution_count": 72,
   "id": "376c5b7b",
   "metadata": {
    "deletable": false,
    "nbgrader": {
     "cell_type": "code",
     "checksum": "9f76219b37fd0ab9b3127b4478e6816a",
     "grade": false,
     "grade_id": "cell-91a0076514015ec1",
     "locked": false,
     "schema_version": 3,
     "solution": true,
     "task": false
    }
   },
   "outputs": [],
   "source": [
    "# 5.b. calc_aposterior_probs (optional assitance for your solution)\n",
    "# ====>>> YOUR ACTIONS: (optional) IMPLEMENT & RUN \n",
    "\n",
    "# ---- Add assistance code here IF NEEDED:\n",
    "# YOUR CODE HERE\n"
   ]
  },
  {
   "cell_type": "markdown",
   "id": "48a2d609",
   "metadata": {
    "deletable": false,
    "editable": false,
    "nbgrader": {
     "cell_type": "markdown",
     "checksum": "3b2b67f9e03362e5da5f5427c18d4d3f",
     "grade": false,
     "grade_id": "cell-df5aea93d45347ad",
     "locked": true,
     "schema_version": 3,
     "solution": false,
     "task": false
    }
   },
   "source": [
    "##### 5.b. calc_aposterior_probs - YOUR SOLUTION - Implement and Run the following code cell:"
   ]
  },
  {
   "cell_type": "code",
   "execution_count": 97,
   "id": "53dbd559",
   "metadata": {
    "deletable": false,
    "nbgrader": {
     "cell_type": "code",
     "checksum": "0d86363986ac671d01b4a1676be29426",
     "grade": false,
     "grade_id": "sol5b-calc_aposterior_probs",
     "locked": false,
     "schema_version": 3,
     "solution": true,
     "task": false
    }
   },
   "outputs": [],
   "source": [
    "# 5.b. calc_aposterior_probs (your solution)\n",
    "# ====>>> YOUR ACTIONS: IMPLEMENT & RUN\n",
    "\n",
    "def calc_aposterior_probs(X_test, lst_class_priors, df_trained_mean, df_trained_std, lst_class_vals):\n",
    "    num_classes = len(lst_class_vals)\n",
    "    df_prob_per_test_inst_per_class = pd.DataFrame(np.zeros((X_test.shape[0], num_classes)), columns=lst_class_vals, index=X_test.index)\n",
    "    # YOUR CODE HERE\n",
    "    \n",
    "    \n",
    "    \n",
    "    "
   ]
  },
  {
   "cell_type": "markdown",
   "id": "a2dea205",
   "metadata": {
    "deletable": false,
    "editable": false,
    "nbgrader": {
     "cell_type": "markdown",
     "checksum": "73cf46bd341eae0881dd5d0963027493",
     "grade": false,
     "grade_id": "cell-da65b11e69383b80",
     "locked": true,
     "schema_version": 3,
     "solution": false,
     "task": false
    }
   },
   "source": [
    "##### 5.b. calc_aposterior_probs - OPTIONAL SELF TEST - Implement and Run the following code cell (IF NEEDED):"
   ]
  },
  {
   "cell_type": "code",
   "execution_count": 98,
   "id": "a6946531",
   "metadata": {
    "deletable": false,
    "nbgrader": {
     "cell_type": "code",
     "checksum": "b8f865537ef5263a79ffa01f5f34bcb4",
     "grade": false,
     "grade_id": "cell-02f5ffa8a9091a1e",
     "locked": false,
     "schema_version": 3,
     "solution": true,
     "task": false
    }
   },
   "outputs": [
    {
     "name": "stdout",
     "output_type": "stream",
     "text": [
      "           sepal length (cm)  sepal width (cm)  petal length (cm)  \\\n",
      "iris_type                                                           \n",
      "0                   0.376100          0.395724           0.162938   \n",
      "1                   0.499271          0.322712           0.501146   \n",
      "2                   0.599551          0.314561           0.528932   \n",
      "\n",
      "           petal width (cm)  iris_type  \n",
      "iris_type                               \n",
      "0                  0.104823          0  \n",
      "1                  0.212688          1  \n",
      "2                  0.270979          2  \n",
      "           sepal length (cm)  sepal width (cm)  petal length (cm)  \\\n",
      "iris_type                                                           \n",
      "0                   4.982927          3.412195           1.446341   \n",
      "1                   5.961538          2.782051           4.279487   \n",
      "2                   6.505000          2.945000           5.465000   \n",
      "\n",
      "           petal width (cm)  iris_type  \n",
      "iris_type                               \n",
      "0                  0.241463          0  \n",
      "1                  1.328205          1  \n",
      "2                  2.012500          2  \n"
     ]
    },
    {
     "ename": "ValueError",
     "evalue": "No axis named 1 for object type Series",
     "output_type": "error",
     "traceback": [
      "\u001b[1;31m---------------------------------------------------------------------------\u001b[0m",
      "\u001b[1;31mKeyError\u001b[0m                                  Traceback (most recent call last)",
      "\u001b[1;32mC:\\ProgramData\\Anaconda3\\lib\\site-packages\\pandas\\core\\generic.py\u001b[0m in \u001b[0;36m_get_axis_number\u001b[1;34m(cls, axis)\u001b[0m\n\u001b[0;32m    549\u001b[0m         \u001b[1;32mtry\u001b[0m\u001b[1;33m:\u001b[0m\u001b[1;33m\u001b[0m\u001b[1;33m\u001b[0m\u001b[0m\n\u001b[1;32m--> 550\u001b[1;33m             \u001b[1;32mreturn\u001b[0m \u001b[0mcls\u001b[0m\u001b[1;33m.\u001b[0m\u001b[0m_AXIS_TO_AXIS_NUMBER\u001b[0m\u001b[1;33m[\u001b[0m\u001b[0maxis\u001b[0m\u001b[1;33m]\u001b[0m\u001b[1;33m\u001b[0m\u001b[1;33m\u001b[0m\u001b[0m\n\u001b[0m\u001b[0;32m    551\u001b[0m         \u001b[1;32mexcept\u001b[0m \u001b[0mKeyError\u001b[0m\u001b[1;33m:\u001b[0m\u001b[1;33m\u001b[0m\u001b[1;33m\u001b[0m\u001b[0m\n",
      "\u001b[1;31mKeyError\u001b[0m: 1",
      "\nDuring handling of the above exception, another exception occurred:\n",
      "\u001b[1;31mValueError\u001b[0m                                Traceback (most recent call last)",
      "\u001b[1;32m~\\AppData\\Local\\Temp\\ipykernel_21200\\2712484329.py\u001b[0m in \u001b[0;36m<module>\u001b[1;34m\u001b[0m\n\u001b[0;32m     12\u001b[0m \u001b[0mX_test\u001b[0m\u001b[1;33m,\u001b[0m \u001b[0my_test\u001b[0m \u001b[1;33m=\u001b[0m \u001b[0mload_dataset\u001b[0m\u001b[1;33m(\u001b[0m\u001b[0mtest_file_name\u001b[0m\u001b[1;33m,\u001b[0m \u001b[0mcategory_col_name\u001b[0m\u001b[1;33m)\u001b[0m\u001b[1;33m\u001b[0m\u001b[1;33m\u001b[0m\u001b[0m\n\u001b[0;32m     13\u001b[0m \u001b[0mlst_class_priors\u001b[0m\u001b[1;33m,\u001b[0m\u001b[0mdf_mean_likelihood\u001b[0m\u001b[1;33m,\u001b[0m\u001b[0mdf_std_likelihood\u001b[0m \u001b[1;33m=\u001b[0m \u001b[0mfit\u001b[0m\u001b[1;33m(\u001b[0m\u001b[0mtrainset\u001b[0m\u001b[1;33m,\u001b[0m\u001b[0mcategory_col_name\u001b[0m\u001b[1;33m)\u001b[0m\u001b[1;33m\u001b[0m\u001b[1;33m\u001b[0m\u001b[0m\n\u001b[1;32m---> 14\u001b[1;33m \u001b[0mdf_aposterior_probs\u001b[0m \u001b[1;33m=\u001b[0m \u001b[0mcalc_aposterior_probs\u001b[0m\u001b[1;33m(\u001b[0m\u001b[0mX_test\u001b[0m\u001b[1;33m,\u001b[0m \u001b[0mlst_class_priors\u001b[0m\u001b[1;33m,\u001b[0m \u001b[0mdf_mean_likelihood\u001b[0m\u001b[1;33m,\u001b[0m \u001b[0mdf_std_likelihood\u001b[0m\u001b[1;33m,\u001b[0m \u001b[0munique_categories\u001b[0m\u001b[1;33m)\u001b[0m\u001b[1;33m\u001b[0m\u001b[1;33m\u001b[0m\u001b[0m\n\u001b[0m\u001b[0;32m     15\u001b[0m \u001b[1;31m# --- add additional code to check your code if needed:\u001b[0m\u001b[1;33m\u001b[0m\u001b[1;33m\u001b[0m\u001b[0m\n\u001b[0;32m     16\u001b[0m \u001b[1;31m# YOUR CODE HERE\u001b[0m\u001b[1;33m\u001b[0m\u001b[1;33m\u001b[0m\u001b[0m\n",
      "\u001b[1;32m~\\AppData\\Local\\Temp\\ipykernel_21200\\3161913925.py\u001b[0m in \u001b[0;36mcalc_aposterior_probs\u001b[1;34m(X_test, lst_class_priors, df_trained_mean, df_trained_std, lst_class_vals)\u001b[0m\n\u001b[0;32m     18\u001b[0m \u001b[1;33m\u001b[0m\u001b[0m\n\u001b[0;32m     19\u001b[0m         \u001b[1;31m# Compute the joint likelihood for each instance (product of probabilities across all features)\u001b[0m\u001b[1;33m\u001b[0m\u001b[1;33m\u001b[0m\u001b[0m\n\u001b[1;32m---> 20\u001b[1;33m         \u001b[0mjoint_likelihood\u001b[0m \u001b[1;33m=\u001b[0m \u001b[0mlikelihood\u001b[0m\u001b[1;33m.\u001b[0m\u001b[0mprod\u001b[0m\u001b[1;33m(\u001b[0m\u001b[0maxis\u001b[0m\u001b[1;33m=\u001b[0m\u001b[1;36m1\u001b[0m\u001b[1;33m)\u001b[0m\u001b[1;33m\u001b[0m\u001b[1;33m\u001b[0m\u001b[0m\n\u001b[0m\u001b[0;32m     21\u001b[0m \u001b[1;33m\u001b[0m\u001b[0m\n\u001b[0;32m     22\u001b[0m         \u001b[1;31m# Compute the posterior probability for each class (prior * joint likelihood)\u001b[0m\u001b[1;33m\u001b[0m\u001b[1;33m\u001b[0m\u001b[0m\n",
      "\u001b[1;32mC:\\ProgramData\\Anaconda3\\lib\\site-packages\\pandas\\core\\generic.py\u001b[0m in \u001b[0;36mprod\u001b[1;34m(self, axis, skipna, level, numeric_only, min_count, **kwargs)\u001b[0m\n\u001b[0;32m  11097\u001b[0m             \u001b[1;33m**\u001b[0m\u001b[0mkwargs\u001b[0m\u001b[1;33m,\u001b[0m\u001b[1;33m\u001b[0m\u001b[1;33m\u001b[0m\u001b[0m\n\u001b[0;32m  11098\u001b[0m         ):\n\u001b[1;32m> 11099\u001b[1;33m             return NDFrame.prod(\n\u001b[0m\u001b[0;32m  11100\u001b[0m                 \u001b[0mself\u001b[0m\u001b[1;33m,\u001b[0m \u001b[0maxis\u001b[0m\u001b[1;33m,\u001b[0m \u001b[0mskipna\u001b[0m\u001b[1;33m,\u001b[0m \u001b[0mlevel\u001b[0m\u001b[1;33m,\u001b[0m \u001b[0mnumeric_only\u001b[0m\u001b[1;33m,\u001b[0m \u001b[0mmin_count\u001b[0m\u001b[1;33m,\u001b[0m \u001b[1;33m**\u001b[0m\u001b[0mkwargs\u001b[0m\u001b[1;33m\u001b[0m\u001b[1;33m\u001b[0m\u001b[0m\n\u001b[0;32m  11101\u001b[0m             )\n",
      "\u001b[1;32mC:\\ProgramData\\Anaconda3\\lib\\site-packages\\pandas\\core\\generic.py\u001b[0m in \u001b[0;36mprod\u001b[1;34m(self, axis, skipna, level, numeric_only, min_count, **kwargs)\u001b[0m\n\u001b[0;32m  10805\u001b[0m         \u001b[1;33m**\u001b[0m\u001b[0mkwargs\u001b[0m\u001b[1;33m,\u001b[0m\u001b[1;33m\u001b[0m\u001b[1;33m\u001b[0m\u001b[0m\n\u001b[0;32m  10806\u001b[0m     ):\n\u001b[1;32m> 10807\u001b[1;33m         return self._min_count_stat_function(\n\u001b[0m\u001b[0;32m  10808\u001b[0m             \u001b[1;34m\"prod\"\u001b[0m\u001b[1;33m,\u001b[0m\u001b[1;33m\u001b[0m\u001b[1;33m\u001b[0m\u001b[0m\n\u001b[0;32m  10809\u001b[0m             \u001b[0mnanops\u001b[0m\u001b[1;33m.\u001b[0m\u001b[0mnanprod\u001b[0m\u001b[1;33m,\u001b[0m\u001b[1;33m\u001b[0m\u001b[1;33m\u001b[0m\u001b[0m\n",
      "\u001b[1;32mC:\\ProgramData\\Anaconda3\\lib\\site-packages\\pandas\\core\\generic.py\u001b[0m in \u001b[0;36m_min_count_stat_function\u001b[1;34m(self, name, func, axis, skipna, level, numeric_only, min_count, **kwargs)\u001b[0m\n\u001b[0;32m  10774\u001b[0m             )\n\u001b[0;32m  10775\u001b[0m \u001b[1;33m\u001b[0m\u001b[0m\n\u001b[1;32m> 10776\u001b[1;33m         return self._reduce(\n\u001b[0m\u001b[0;32m  10777\u001b[0m             \u001b[0mfunc\u001b[0m\u001b[1;33m,\u001b[0m\u001b[1;33m\u001b[0m\u001b[1;33m\u001b[0m\u001b[0m\n\u001b[0;32m  10778\u001b[0m             \u001b[0mname\u001b[0m\u001b[1;33m=\u001b[0m\u001b[0mname\u001b[0m\u001b[1;33m,\u001b[0m\u001b[1;33m\u001b[0m\u001b[1;33m\u001b[0m\u001b[0m\n",
      "\u001b[1;32mC:\\ProgramData\\Anaconda3\\lib\\site-packages\\pandas\\core\\series.py\u001b[0m in \u001b[0;36m_reduce\u001b[1;34m(self, op, name, axis, skipna, numeric_only, filter_type, **kwds)\u001b[0m\n\u001b[0;32m   4453\u001b[0m \u001b[1;33m\u001b[0m\u001b[0m\n\u001b[0;32m   4454\u001b[0m         \u001b[1;32mif\u001b[0m \u001b[0maxis\u001b[0m \u001b[1;32mis\u001b[0m \u001b[1;32mnot\u001b[0m \u001b[1;32mNone\u001b[0m\u001b[1;33m:\u001b[0m\u001b[1;33m\u001b[0m\u001b[1;33m\u001b[0m\u001b[0m\n\u001b[1;32m-> 4455\u001b[1;33m             \u001b[0mself\u001b[0m\u001b[1;33m.\u001b[0m\u001b[0m_get_axis_number\u001b[0m\u001b[1;33m(\u001b[0m\u001b[0maxis\u001b[0m\u001b[1;33m)\u001b[0m\u001b[1;33m\u001b[0m\u001b[1;33m\u001b[0m\u001b[0m\n\u001b[0m\u001b[0;32m   4456\u001b[0m \u001b[1;33m\u001b[0m\u001b[0m\n\u001b[0;32m   4457\u001b[0m         \u001b[1;32mif\u001b[0m \u001b[0misinstance\u001b[0m\u001b[1;33m(\u001b[0m\u001b[0mdelegate\u001b[0m\u001b[1;33m,\u001b[0m \u001b[0mExtensionArray\u001b[0m\u001b[1;33m)\u001b[0m\u001b[1;33m:\u001b[0m\u001b[1;33m\u001b[0m\u001b[1;33m\u001b[0m\u001b[0m\n",
      "\u001b[1;32mC:\\ProgramData\\Anaconda3\\lib\\site-packages\\pandas\\core\\generic.py\u001b[0m in \u001b[0;36m_get_axis_number\u001b[1;34m(cls, axis)\u001b[0m\n\u001b[0;32m    550\u001b[0m             \u001b[1;32mreturn\u001b[0m \u001b[0mcls\u001b[0m\u001b[1;33m.\u001b[0m\u001b[0m_AXIS_TO_AXIS_NUMBER\u001b[0m\u001b[1;33m[\u001b[0m\u001b[0maxis\u001b[0m\u001b[1;33m]\u001b[0m\u001b[1;33m\u001b[0m\u001b[1;33m\u001b[0m\u001b[0m\n\u001b[0;32m    551\u001b[0m         \u001b[1;32mexcept\u001b[0m \u001b[0mKeyError\u001b[0m\u001b[1;33m:\u001b[0m\u001b[1;33m\u001b[0m\u001b[1;33m\u001b[0m\u001b[0m\n\u001b[1;32m--> 552\u001b[1;33m             \u001b[1;32mraise\u001b[0m \u001b[0mValueError\u001b[0m\u001b[1;33m(\u001b[0m\u001b[1;34mf\"No axis named {axis} for object type {cls.__name__}\"\u001b[0m\u001b[1;33m)\u001b[0m\u001b[1;33m\u001b[0m\u001b[1;33m\u001b[0m\u001b[0m\n\u001b[0m\u001b[0;32m    553\u001b[0m \u001b[1;33m\u001b[0m\u001b[0m\n\u001b[0;32m    554\u001b[0m     \u001b[1;33m@\u001b[0m\u001b[0mfinal\u001b[0m\u001b[1;33m\u001b[0m\u001b[1;33m\u001b[0m\u001b[0m\n",
      "\u001b[1;31mValueError\u001b[0m: No axis named 1 for object type Series"
     ]
    }
   ],
   "source": [
    "# 5.b. calc_aposterior_probs (optional self testing)\n",
    "# ====>>> YOUR ACTIONS: (optional) IMPLEMENT & RUN \n",
    "\n",
    "train_file_name = 'iris_train_set.csv'\n",
    "test_file_name = 'iris_test_set.csv'\n",
    "category_col_name = 'iris_type'\n",
    "student_name, student_id = my_name(), my_id()\n",
    "X_train, y_train = load_dataset(train_file_name, category_col_name)\n",
    "unique_categories = np.sort(np.unique(y_train.values))\n",
    "trainset=X_train.copy(deep=True)\n",
    "trainset[category_col_name]=y_train\n",
    "X_test, y_test = load_dataset(test_file_name, category_col_name)\n",
    "lst_class_priors,df_mean_likelihood,df_std_likelihood = fit(trainset,category_col_name)\n",
    "df_aposterior_probs = calc_aposterior_probs(X_test, lst_class_priors, df_mean_likelihood, df_std_likelihood, unique_categories)\n",
    "# --- add additional code to check your code if needed:\n",
    "# YOUR CODE HERE\n",
    "\n"
   ]
  },
  {
   "cell_type": "markdown",
   "id": "ccf16b77",
   "metadata": {
    "deletable": false,
    "editable": false,
    "nbgrader": {
     "cell_type": "markdown",
     "checksum": "f726559487cf0e4c8c1b56426b0dc381",
     "grade": false,
     "grade_id": "cell-78172e87325f9c2c",
     "locked": true,
     "schema_version": 3,
     "solution": false,
     "task": false
    }
   },
   "source": [
    "##### 5.b. calc_aposterior_probs - GRADED TESTS - Run the following (3) code cells:"
   ]
  },
  {
   "cell_type": "code",
   "execution_count": 92,
   "id": "959085b3",
   "metadata": {
    "deletable": false,
    "editable": false,
    "nbgrader": {
     "cell_type": "code",
     "checksum": "5f37529f9dc111ab40f1e68ac119ecab",
     "grade": true,
     "grade_id": "test5b_1-calc_aposterior_probs",
     "locked": true,
     "points": 1,
     "schema_version": 3,
     "solution": false,
     "task": false
    }
   },
   "outputs": [
    {
     "name": "stdout",
     "output_type": "stream",
     "text": [
      "5.b.'calc_aposterior_probs' - Test 1 (name: test5b_1-calc_aposterior_probs, points: 1) - Sanity\n",
      "           sepal length (cm)  sepal width (cm)  petal length (cm)  \\\n",
      "iris_type                                                           \n",
      "0                   0.376100          0.395724           0.162938   \n",
      "1                   0.499271          0.322712           0.501146   \n",
      "2                   0.599551          0.314561           0.528932   \n",
      "\n",
      "           petal width (cm)  iris_type  \n",
      "iris_type                               \n",
      "0                  0.104823          0  \n",
      "1                  0.212688          1  \n",
      "2                  0.270979          2  \n",
      "           sepal length (cm)  sepal width (cm)  petal length (cm)  \\\n",
      "iris_type                                                           \n",
      "0                   4.982927          3.412195           1.446341   \n",
      "1                   5.961538          2.782051           4.279487   \n",
      "2                   6.505000          2.945000           5.465000   \n",
      "\n",
      "           petal width (cm)  iris_type  \n",
      "iris_type                               \n",
      "0                  0.241463          0  \n",
      "1                  1.328205          1  \n",
      "2                  2.012500          2  \n",
      "You probably have a syntax or implementation error,  \n",
      "error Message: local variable 'df_aposterior_probs' referenced before assignment \n",
      "Try fixing your code\n"
     ]
    },
    {
     "ename": "UnboundLocalError",
     "evalue": "local variable 'df_aposterior_probs' referenced before assignment",
     "output_type": "error",
     "traceback": [
      "\u001b[1;31m---------------------------------------------------------------------------\u001b[0m",
      "\u001b[1;31mUnboundLocalError\u001b[0m                         Traceback (most recent call last)",
      "\u001b[1;32m~\\AppData\\Local\\Temp\\ipykernel_21200\\3556692584.py\u001b[0m in \u001b[0;36m<module>\u001b[1;34m\u001b[0m\n\u001b[0;32m     15\u001b[0m     \u001b[0mX_test\u001b[0m\u001b[1;33m,\u001b[0m \u001b[0my_test\u001b[0m \u001b[1;33m=\u001b[0m \u001b[0mload_dataset\u001b[0m\u001b[1;33m(\u001b[0m\u001b[0mtest_file_name\u001b[0m\u001b[1;33m,\u001b[0m \u001b[0mcategory_col_name\u001b[0m\u001b[1;33m)\u001b[0m\u001b[1;33m\u001b[0m\u001b[1;33m\u001b[0m\u001b[0m\n\u001b[0;32m     16\u001b[0m     \u001b[0mlst_class_priors\u001b[0m\u001b[1;33m,\u001b[0m\u001b[0mdf_mean_likelihood\u001b[0m\u001b[1;33m,\u001b[0m\u001b[0mdf_std_likelihood\u001b[0m \u001b[1;33m=\u001b[0m \u001b[0mfit\u001b[0m\u001b[1;33m(\u001b[0m\u001b[0mtrainset\u001b[0m\u001b[1;33m,\u001b[0m\u001b[0mcategory_col_name\u001b[0m\u001b[1;33m)\u001b[0m\u001b[1;33m\u001b[0m\u001b[1;33m\u001b[0m\u001b[0m\n\u001b[1;32m---> 17\u001b[1;33m     \u001b[0mdf_aposterior_probs\u001b[0m \u001b[1;33m=\u001b[0m \u001b[0mcalc_aposterior_probs\u001b[0m\u001b[1;33m(\u001b[0m\u001b[0mX_test\u001b[0m\u001b[1;33m,\u001b[0m \u001b[0mlst_class_priors\u001b[0m\u001b[1;33m,\u001b[0m \u001b[0mdf_mean_likelihood\u001b[0m\u001b[1;33m,\u001b[0m \u001b[0mdf_std_likelihood\u001b[0m\u001b[1;33m,\u001b[0m \u001b[0munique_categories\u001b[0m\u001b[1;33m)\u001b[0m\u001b[1;33m\u001b[0m\u001b[1;33m\u001b[0m\u001b[0m\n\u001b[0m\u001b[0;32m     18\u001b[0m \u001b[1;32mexcept\u001b[0m \u001b[0mException\u001b[0m \u001b[1;32mas\u001b[0m \u001b[0me\u001b[0m\u001b[1;33m:\u001b[0m\u001b[1;33m\u001b[0m\u001b[1;33m\u001b[0m\u001b[0m\n\u001b[0;32m     19\u001b[0m     \u001b[0mprint\u001b[0m \u001b[1;33m(\u001b[0m\u001b[1;34m'You probably have a syntax or implementation error,  \\nerror Message:'\u001b[0m\u001b[1;33m,\u001b[0m\u001b[0mstr\u001b[0m\u001b[1;33m(\u001b[0m\u001b[0me\u001b[0m\u001b[1;33m)\u001b[0m\u001b[1;33m,\u001b[0m \u001b[1;34m'\\nTry fixing your code'\u001b[0m\u001b[1;33m)\u001b[0m\u001b[1;33m\u001b[0m\u001b[1;33m\u001b[0m\u001b[0m\n",
      "\u001b[1;32m~\\AppData\\Local\\Temp\\ipykernel_21200\\3609880397.py\u001b[0m in \u001b[0;36mcalc_aposterior_probs\u001b[1;34m(X_test, lst_class_priors, df_trained_mean, df_trained_std, lst_class_vals)\u001b[0m\n\u001b[0;32m     23\u001b[0m \u001b[1;33m\u001b[0m\u001b[0m\n\u001b[0;32m     24\u001b[0m         \u001b[1;31m# Store the computed posterior probabilities in the DataFrame\u001b[0m\u001b[1;33m\u001b[0m\u001b[1;33m\u001b[0m\u001b[0m\n\u001b[1;32m---> 25\u001b[1;33m         \u001b[0mdf_aposterior_probs\u001b[0m\u001b[1;33m[\u001b[0m\u001b[0mclass_val\u001b[0m\u001b[1;33m]\u001b[0m \u001b[1;33m=\u001b[0m \u001b[0mposterior_probs\u001b[0m\u001b[1;33m\u001b[0m\u001b[1;33m\u001b[0m\u001b[0m\n\u001b[0m\u001b[0;32m     26\u001b[0m \u001b[1;33m\u001b[0m\u001b[0m\n\u001b[0;32m     27\u001b[0m     \u001b[1;31m# Normalize probabilities so that they sum to 1 for each test instance\u001b[0m\u001b[1;33m\u001b[0m\u001b[1;33m\u001b[0m\u001b[0m\n",
      "\u001b[1;31mUnboundLocalError\u001b[0m: local variable 'df_aposterior_probs' referenced before assignment"
     ]
    }
   ],
   "source": [
    "# 5.b. calc_aposterior_probs (graded test)\n",
    "# ====>>> YOUR ACTIONS: RUN ONLY\n",
    "\n",
    "print (\"5.b.'calc_aposterior_probs' - Test 1 (name: test5b_1-calc_aposterior_probs, points: 1) - Sanity\")\n",
    "\n",
    "train_file_name = 'iris_train_set.csv'\n",
    "test_file_name = 'iris_test_set.csv'\n",
    "category_col_name = 'iris_type'\n",
    "try:\n",
    "    student_name, student_id = my_name(), my_id()\n",
    "    X_train, y_train = load_dataset(train_file_name, category_col_name)\n",
    "    unique_categories = np.sort(np.unique(y_train.values))\n",
    "    trainset=X_train.copy(deep=True)\n",
    "    trainset[category_col_name]=y_train\n",
    "    X_test, y_test = load_dataset(test_file_name, category_col_name)\n",
    "    lst_class_priors,df_mean_likelihood,df_std_likelihood = fit(trainset,category_col_name)\n",
    "    df_aposterior_probs = calc_aposterior_probs(X_test, lst_class_priors, df_mean_likelihood, df_std_likelihood, unique_categories)\n",
    "except Exception as e:\n",
    "    print ('You probably have a syntax or implementation error,  \\nerror Message:',str(e), '\\nTry fixing your code')\n",
    "    raise\n",
    "    \n",
    "print (\"Good Job!\\nYou've passed the 1st test for the 'calc_aposterior_probs' function implementation :-)\")   "
   ]
  },
  {
   "cell_type": "code",
   "execution_count": 93,
   "id": "38c91d15",
   "metadata": {
    "deletable": false,
    "editable": false,
    "nbgrader": {
     "cell_type": "code",
     "checksum": "f830d7cb41bc8f923187ac18cdc98ca8",
     "grade": true,
     "grade_id": "test5b_2-calc_aposterior_probs",
     "locked": true,
     "points": 6,
     "schema_version": 3,
     "solution": false,
     "task": false
    }
   },
   "outputs": [
    {
     "name": "stdout",
     "output_type": "stream",
     "text": [
      "5.b.'calc_aposterior_probs' - Test 2 (name: test5b_2-calc_aposterior_probs, points: 6)\n",
      "           sepal length (cm)  sepal width (cm)  petal length (cm)  \\\n",
      "iris_type                                                           \n",
      "0                   0.376100          0.395724           0.162938   \n",
      "1                   0.499271          0.322712           0.501146   \n",
      "2                   0.599551          0.314561           0.528932   \n",
      "\n",
      "           petal width (cm)  iris_type  \n",
      "iris_type                               \n",
      "0                  0.104823          0  \n",
      "1                  0.212688          1  \n",
      "2                  0.270979          2  \n",
      "           sepal length (cm)  sepal width (cm)  petal length (cm)  \\\n",
      "iris_type                                                           \n",
      "0                   4.982927          3.412195           1.446341   \n",
      "1                   5.961538          2.782051           4.279487   \n",
      "2                   6.505000          2.945000           5.465000   \n",
      "\n",
      "           petal width (cm)  iris_type  \n",
      "iris_type                               \n",
      "0                  0.241463          0  \n",
      "1                  1.328205          1  \n",
      "2                  2.012500          2  \n",
      "You probably have a syntax or implementation error,  \n",
      "error Message: local variable 'df_aposterior_probs' referenced before assignment \n",
      "Try fixing your code\n"
     ]
    },
    {
     "ename": "UnboundLocalError",
     "evalue": "local variable 'df_aposterior_probs' referenced before assignment",
     "output_type": "error",
     "traceback": [
      "\u001b[1;31m---------------------------------------------------------------------------\u001b[0m",
      "\u001b[1;31mUnboundLocalError\u001b[0m                         Traceback (most recent call last)",
      "\u001b[1;32m~\\AppData\\Local\\Temp\\ipykernel_21200\\574113770.py\u001b[0m in \u001b[0;36m<module>\u001b[1;34m\u001b[0m\n\u001b[0;32m     15\u001b[0m     \u001b[0mX_test\u001b[0m\u001b[1;33m,\u001b[0m \u001b[0my_test\u001b[0m \u001b[1;33m=\u001b[0m \u001b[0mload_dataset\u001b[0m\u001b[1;33m(\u001b[0m\u001b[0mtest_file_name\u001b[0m\u001b[1;33m,\u001b[0m \u001b[0mcategory_col_name\u001b[0m\u001b[1;33m)\u001b[0m\u001b[1;33m\u001b[0m\u001b[1;33m\u001b[0m\u001b[0m\n\u001b[0;32m     16\u001b[0m     \u001b[0mlst_class_priors\u001b[0m\u001b[1;33m,\u001b[0m\u001b[0mdf_mean_likelihood\u001b[0m\u001b[1;33m,\u001b[0m\u001b[0mdf_std_likelihood\u001b[0m \u001b[1;33m=\u001b[0m \u001b[0mfit\u001b[0m\u001b[1;33m(\u001b[0m\u001b[0mtrainset\u001b[0m\u001b[1;33m,\u001b[0m\u001b[0mcategory_col_name\u001b[0m\u001b[1;33m)\u001b[0m\u001b[1;33m\u001b[0m\u001b[1;33m\u001b[0m\u001b[0m\n\u001b[1;32m---> 17\u001b[1;33m     \u001b[0mdf_aposterior_probs\u001b[0m \u001b[1;33m=\u001b[0m \u001b[0mcalc_aposterior_probs\u001b[0m\u001b[1;33m(\u001b[0m\u001b[0mX_test\u001b[0m\u001b[1;33m,\u001b[0m \u001b[0mlst_class_priors\u001b[0m\u001b[1;33m,\u001b[0m \u001b[0mdf_mean_likelihood\u001b[0m\u001b[1;33m,\u001b[0m \u001b[0mdf_std_likelihood\u001b[0m\u001b[1;33m,\u001b[0m \u001b[0munique_categories\u001b[0m\u001b[1;33m)\u001b[0m\u001b[1;33m\u001b[0m\u001b[1;33m\u001b[0m\u001b[0m\n\u001b[0m\u001b[0;32m     18\u001b[0m \u001b[1;32mexcept\u001b[0m \u001b[0mException\u001b[0m \u001b[1;32mas\u001b[0m \u001b[0me\u001b[0m\u001b[1;33m:\u001b[0m\u001b[1;33m\u001b[0m\u001b[1;33m\u001b[0m\u001b[0m\n\u001b[0;32m     19\u001b[0m     \u001b[0mprint\u001b[0m \u001b[1;33m(\u001b[0m\u001b[1;34m'You probably have a syntax or implementation error,  \\nerror Message:'\u001b[0m\u001b[1;33m,\u001b[0m\u001b[0mstr\u001b[0m\u001b[1;33m(\u001b[0m\u001b[0me\u001b[0m\u001b[1;33m)\u001b[0m\u001b[1;33m,\u001b[0m \u001b[1;34m'\\nTry fixing your code'\u001b[0m\u001b[1;33m)\u001b[0m\u001b[1;33m\u001b[0m\u001b[1;33m\u001b[0m\u001b[0m\n",
      "\u001b[1;32m~\\AppData\\Local\\Temp\\ipykernel_21200\\3609880397.py\u001b[0m in \u001b[0;36mcalc_aposterior_probs\u001b[1;34m(X_test, lst_class_priors, df_trained_mean, df_trained_std, lst_class_vals)\u001b[0m\n\u001b[0;32m     23\u001b[0m \u001b[1;33m\u001b[0m\u001b[0m\n\u001b[0;32m     24\u001b[0m         \u001b[1;31m# Store the computed posterior probabilities in the DataFrame\u001b[0m\u001b[1;33m\u001b[0m\u001b[1;33m\u001b[0m\u001b[0m\n\u001b[1;32m---> 25\u001b[1;33m         \u001b[0mdf_aposterior_probs\u001b[0m\u001b[1;33m[\u001b[0m\u001b[0mclass_val\u001b[0m\u001b[1;33m]\u001b[0m \u001b[1;33m=\u001b[0m \u001b[0mposterior_probs\u001b[0m\u001b[1;33m\u001b[0m\u001b[1;33m\u001b[0m\u001b[0m\n\u001b[0m\u001b[0;32m     26\u001b[0m \u001b[1;33m\u001b[0m\u001b[0m\n\u001b[0;32m     27\u001b[0m     \u001b[1;31m# Normalize probabilities so that they sum to 1 for each test instance\u001b[0m\u001b[1;33m\u001b[0m\u001b[1;33m\u001b[0m\u001b[0m\n",
      "\u001b[1;31mUnboundLocalError\u001b[0m: local variable 'df_aposterior_probs' referenced before assignment"
     ]
    }
   ],
   "source": [
    "# 5.b. calc_aposterior_probs (graded test)\n",
    "# ====>>> YOUR ACTIONS: RUN ONLY\n",
    "\n",
    "print (\"5.b.'calc_aposterior_probs' - Test 2 (name: test5b_2-calc_aposterior_probs, points: 6)\")\n",
    "\n",
    "train_file_name = 'iris_train_set.csv'\n",
    "test_file_name = 'iris_test_set.csv'\n",
    "category_col_name = 'iris_type'\n",
    "try:\n",
    "    student_name, student_id = my_name(), my_id()\n",
    "    X_train, y_train = load_dataset(train_file_name, category_col_name)\n",
    "    unique_categories = np.sort(np.unique(y_train.values))\n",
    "    trainset=X_train.copy(deep=True)\n",
    "    trainset[category_col_name]=y_train\n",
    "    X_test, y_test = load_dataset(test_file_name, category_col_name)\n",
    "    lst_class_priors,df_mean_likelihood,df_std_likelihood = fit(trainset,category_col_name)\n",
    "    df_aposterior_probs = calc_aposterior_probs(X_test, lst_class_priors, df_mean_likelihood, df_std_likelihood, unique_categories)\n",
    "except Exception as e:\n",
    "    print ('You probably have a syntax or implementation error,  \\nerror Message:',str(e), '\\nTry fixing your code')\n",
    "    raise\n",
    "\n",
    "np.testing.assert_array_equal (df_aposterior_probs.columns, unique_categories, \"Wrong columns for 'df_aposterior_probs', should be equals to the three classes: 1,2,3\")\n",
    "np.testing.assert_array_equal(df_aposterior_probs.index, X_test.index, 'df_aposterior_probs and X_test should have the same index')\n",
    "    \n",
    "print (\"Good Job!\\nYou've passed the 2nd test for the 'calc_aposterior_probs' function implementation :-)\")        "
   ]
  },
  {
   "cell_type": "code",
   "execution_count": 94,
   "id": "5a420841",
   "metadata": {
    "deletable": false,
    "editable": false,
    "nbgrader": {
     "cell_type": "code",
     "checksum": "ae8564c67aa838fd2d043c11d7e88ba3",
     "grade": true,
     "grade_id": "test5b_3-calc_aposterior_probs",
     "locked": true,
     "points": 8,
     "schema_version": 3,
     "solution": false,
     "task": false
    }
   },
   "outputs": [
    {
     "name": "stdout",
     "output_type": "stream",
     "text": [
      "5.b.'calc_aposterior_probs' - Test 3 (name: test5b_3-calc_aposterior_probs, points: 8)\n",
      "           sepal length (cm)  sepal width (cm)  petal length (cm)  \\\n",
      "iris_type                                                           \n",
      "0                   0.376100          0.395724           0.162938   \n",
      "1                   0.499271          0.322712           0.501146   \n",
      "2                   0.599551          0.314561           0.528932   \n",
      "\n",
      "           petal width (cm)  iris_type  \n",
      "iris_type                               \n",
      "0                  0.104823          0  \n",
      "1                  0.212688          1  \n",
      "2                  0.270979          2  \n",
      "           sepal length (cm)  sepal width (cm)  petal length (cm)  \\\n",
      "iris_type                                                           \n",
      "0                   4.982927          3.412195           1.446341   \n",
      "1                   5.961538          2.782051           4.279487   \n",
      "2                   6.505000          2.945000           5.465000   \n",
      "\n",
      "           petal width (cm)  iris_type  \n",
      "iris_type                               \n",
      "0                  0.241463          0  \n",
      "1                  1.328205          1  \n",
      "2                  2.012500          2  \n",
      "You probably have a syntax or implementation error,  \n",
      "error Message: local variable 'df_aposterior_probs' referenced before assignment \n",
      "Try fixing your code\n"
     ]
    },
    {
     "ename": "UnboundLocalError",
     "evalue": "local variable 'df_aposterior_probs' referenced before assignment",
     "output_type": "error",
     "traceback": [
      "\u001b[1;31m---------------------------------------------------------------------------\u001b[0m",
      "\u001b[1;31mUnboundLocalError\u001b[0m                         Traceback (most recent call last)",
      "\u001b[1;32m~\\AppData\\Local\\Temp\\ipykernel_21200\\1441912688.py\u001b[0m in \u001b[0;36m<module>\u001b[1;34m\u001b[0m\n\u001b[0;32m     15\u001b[0m     \u001b[0mX_test\u001b[0m\u001b[1;33m,\u001b[0m \u001b[0my_test\u001b[0m \u001b[1;33m=\u001b[0m \u001b[0mload_dataset\u001b[0m\u001b[1;33m(\u001b[0m\u001b[0mtest_file_name\u001b[0m\u001b[1;33m,\u001b[0m \u001b[0mcategory_col_name\u001b[0m\u001b[1;33m)\u001b[0m\u001b[1;33m\u001b[0m\u001b[1;33m\u001b[0m\u001b[0m\n\u001b[0;32m     16\u001b[0m     \u001b[0mlst_class_priors\u001b[0m\u001b[1;33m,\u001b[0m\u001b[0mdf_mean_likelihood\u001b[0m\u001b[1;33m,\u001b[0m\u001b[0mdf_std_likelihood\u001b[0m \u001b[1;33m=\u001b[0m \u001b[0mfit\u001b[0m\u001b[1;33m(\u001b[0m\u001b[0mtrainset\u001b[0m\u001b[1;33m,\u001b[0m\u001b[0mcategory_col_name\u001b[0m\u001b[1;33m)\u001b[0m\u001b[1;33m\u001b[0m\u001b[1;33m\u001b[0m\u001b[0m\n\u001b[1;32m---> 17\u001b[1;33m     \u001b[0mdf_aposterior_probs\u001b[0m \u001b[1;33m=\u001b[0m \u001b[0mcalc_aposterior_probs\u001b[0m\u001b[1;33m(\u001b[0m\u001b[0mX_test\u001b[0m\u001b[1;33m,\u001b[0m \u001b[0mlst_class_priors\u001b[0m\u001b[1;33m,\u001b[0m \u001b[0mdf_mean_likelihood\u001b[0m\u001b[1;33m,\u001b[0m \u001b[0mdf_std_likelihood\u001b[0m\u001b[1;33m,\u001b[0m \u001b[0munique_categories\u001b[0m\u001b[1;33m)\u001b[0m\u001b[1;33m\u001b[0m\u001b[1;33m\u001b[0m\u001b[0m\n\u001b[0m\u001b[0;32m     18\u001b[0m \u001b[1;32mexcept\u001b[0m \u001b[0mException\u001b[0m \u001b[1;32mas\u001b[0m \u001b[0me\u001b[0m\u001b[1;33m:\u001b[0m\u001b[1;33m\u001b[0m\u001b[1;33m\u001b[0m\u001b[0m\n\u001b[0;32m     19\u001b[0m     \u001b[0mprint\u001b[0m \u001b[1;33m(\u001b[0m\u001b[1;34m'You probably have a syntax or implementation error,  \\nerror Message:'\u001b[0m\u001b[1;33m,\u001b[0m\u001b[0mstr\u001b[0m\u001b[1;33m(\u001b[0m\u001b[0me\u001b[0m\u001b[1;33m)\u001b[0m\u001b[1;33m,\u001b[0m \u001b[1;34m'\\nTry fixing your code'\u001b[0m\u001b[1;33m)\u001b[0m\u001b[1;33m\u001b[0m\u001b[1;33m\u001b[0m\u001b[0m\n",
      "\u001b[1;32m~\\AppData\\Local\\Temp\\ipykernel_21200\\3609880397.py\u001b[0m in \u001b[0;36mcalc_aposterior_probs\u001b[1;34m(X_test, lst_class_priors, df_trained_mean, df_trained_std, lst_class_vals)\u001b[0m\n\u001b[0;32m     23\u001b[0m \u001b[1;33m\u001b[0m\u001b[0m\n\u001b[0;32m     24\u001b[0m         \u001b[1;31m# Store the computed posterior probabilities in the DataFrame\u001b[0m\u001b[1;33m\u001b[0m\u001b[1;33m\u001b[0m\u001b[0m\n\u001b[1;32m---> 25\u001b[1;33m         \u001b[0mdf_aposterior_probs\u001b[0m\u001b[1;33m[\u001b[0m\u001b[0mclass_val\u001b[0m\u001b[1;33m]\u001b[0m \u001b[1;33m=\u001b[0m \u001b[0mposterior_probs\u001b[0m\u001b[1;33m\u001b[0m\u001b[1;33m\u001b[0m\u001b[0m\n\u001b[0m\u001b[0;32m     26\u001b[0m \u001b[1;33m\u001b[0m\u001b[0m\n\u001b[0;32m     27\u001b[0m     \u001b[1;31m# Normalize probabilities so that they sum to 1 for each test instance\u001b[0m\u001b[1;33m\u001b[0m\u001b[1;33m\u001b[0m\u001b[0m\n",
      "\u001b[1;31mUnboundLocalError\u001b[0m: local variable 'df_aposterior_probs' referenced before assignment"
     ]
    }
   ],
   "source": [
    "# 5.b. calc_aposterior_probs (graded test)\n",
    "# ====>>> YOUR ACTIONS: RUN ONLY\n",
    "\n",
    "print (\"5.b.'calc_aposterior_probs' - Test 3 (name: test5b_3-calc_aposterior_probs, points: 8)\")\n",
    "\n",
    "train_file_name = 'iris_train_set.csv'\n",
    "test_file_name = 'iris_test_set.csv'\n",
    "category_col_name = 'iris_type'\n",
    "try:\n",
    "    student_name, student_id = my_name(), my_id()\n",
    "    X_train, y_train = load_dataset(train_file_name, category_col_name)\n",
    "    unique_categories = np.sort(np.unique(y_train.values))\n",
    "    trainset=X_train.copy(deep=True)\n",
    "    trainset[category_col_name]=y_train\n",
    "    X_test, y_test = load_dataset(test_file_name, category_col_name)\n",
    "    lst_class_priors,df_mean_likelihood,df_std_likelihood = fit(trainset,category_col_name)\n",
    "    df_aposterior_probs = calc_aposterior_probs(X_test, lst_class_priors, df_mean_likelihood, df_std_likelihood, unique_categories)\n",
    "except Exception as e:\n",
    "    print ('You probably have a syntax or implementation error,  \\nerror Message:',str(e), '\\nTry fixing your code')\n",
    "    raise\n",
    "\n",
    "assert np.round(df_aposterior_probs.iloc[14,0],1)==1.6,\"Wrong value for a-posterior probability for for 15th example (index 14) and class 0\"\n",
    "    \n",
    "print (\"Good Job!\\nYou've passed the 3rd test for the 'calc_aposterior_probs' function implementation :-)\")        "
   ]
  },
  {
   "cell_type": "markdown",
   "id": "bb5fc4ff",
   "metadata": {
    "deletable": false,
    "editable": false,
    "nbgrader": {
     "cell_type": "markdown",
     "checksum": "1e703bcdab5a23ff0c690aac2dbf5fd8",
     "grade": false,
     "grade_id": "cell-ef41797bc8a07b46",
     "locked": true,
     "schema_version": 3,
     "solution": false,
     "task": false
    }
   },
   "source": [
    "[Go to the beginning of the assignment](#home)\n",
    "<a id=\"predict\"></a>\n",
    "#### 5.c. predict - classify new examples\n",
    "<u>method name</u>: <b>predict</b><br/>\n",
    "\n",
    "------------\n",
    "\n",
    "<u>dependency</u>: <br/>\n",
    "* <b>my_name</b></br> \n",
    "* <b>my_id</b></br> \n",
    "* <b>load_dataset</b></br> \n",
    "* <b>calc_aposterior_probs</b></br> \n",
    "\n",
    "For tests:\n",
    "* <b>calc_class_priors</b></br> \n",
    "* <b>calc_mean_for_likelihood</b></br> \n",
    "* <b>calc_std_for_likelihood</b></br>  \n",
    "* <b>fit</b></br> \n",
    "\n",
    "------------\n",
    "\n",
    "<pre>\n",
    "Change the following function to return the predicted categories of the test set examples\n",
    "one category for each corresponding test instance\n",
    "this should be done separately for each class value (in the training set), using the Gaussian Naive Bayes.\n",
    "Note: For each test feature vector, use the a-posterior probability for each class. \n",
    "      The predicted class (in the example level), should be the one with the maximum probability.\n",
    "------------\n",
    "input parameter:\n",
    "- X_test - the test-set instances\n",
    "- lst_class_priors - the trained priors of the classes\n",
    "- df_trained_mean - the dataframe of the trained means for each feature per each class\n",
    "- df_trained_std - the dataframe of the trained stds for each feature per each class\n",
    "- lst_class_vals - a simple python list, containing the possible classes.\n",
    "               remark: for the iris case it includes: [0,1,2]\n",
    "------------\n",
    "return value:\n",
    "- y_predicted -  a series containing all predicted class values per test example.\n",
    "                 Note: the index in the series should correspond to the X_test indexes\n",
    "</pre>\n",
    "\n",
    "------------\n",
    "\n",
    "The return statement should look like this:<br/>\n",
    "<code>return y_predicted</code>"
   ]
  },
  {
   "cell_type": "markdown",
   "id": "ea284dac",
   "metadata": {
    "deletable": false,
    "editable": false,
    "nbgrader": {
     "cell_type": "markdown",
     "checksum": "2a4f6c9648fbd46c68395a5cc80f2cbf",
     "grade": false,
     "grade_id": "cell-d87810691f809f4e",
     "locked": true,
     "schema_version": 3,
     "solution": false,
     "task": false
    }
   },
   "source": [
    "##### 5.c. predict - OPTIONAL  ASSISTANCE  - Implement & Run the following cell (IF NEEDED):"
   ]
  },
  {
   "cell_type": "code",
   "execution_count": null,
   "id": "4523aa24",
   "metadata": {
    "deletable": false,
    "nbgrader": {
     "cell_type": "code",
     "checksum": "c77ff6e4456d2a118ad7f4bca91f0df6",
     "grade": false,
     "grade_id": "cell-0333d91f23c92573",
     "locked": false,
     "schema_version": 3,
     "solution": true,
     "task": false
    }
   },
   "outputs": [],
   "source": [
    "# 5.c. predict (optional assitance for your solution)\n",
    "# ====>>> YOUR ACTIONS: (optional) IMPLEMENT & RUN \n",
    "\n",
    "# ---- Add assistance code here IF NEEDED:\n",
    "# YOUR CODE HERE\n"
   ]
  },
  {
   "cell_type": "markdown",
   "id": "92e545af",
   "metadata": {
    "deletable": false,
    "editable": false,
    "nbgrader": {
     "cell_type": "markdown",
     "checksum": "66af113df5ebe32ecc62daa84173cf62",
     "grade": false,
     "grade_id": "cell-27da7c56c885977b",
     "locked": true,
     "schema_version": 3,
     "solution": false,
     "task": false
    }
   },
   "source": [
    "##### 5.c. predict  - YOUR SOLUTION - Implement and Run the following code cell:"
   ]
  },
  {
   "cell_type": "code",
   "execution_count": null,
   "id": "03ba824e",
   "metadata": {
    "deletable": false,
    "nbgrader": {
     "cell_type": "code",
     "checksum": "b300c3a577d736d433d89f167397b641",
     "grade": false,
     "grade_id": "sol5c-predict",
     "locked": false,
     "schema_version": 3,
     "solution": true,
     "task": false
    }
   },
   "outputs": [],
   "source": [
    "# 5.c. predict (your solution)\n",
    "# ====>>> YOUR ACTIONS: IMPLEMENT & RUN\n",
    "\n",
    "def predict(X_test, lst_class_priors, df_trained_mean, df_trained_std, lst_class_vals):\n",
    "    # YOUR CODE HERE\n",
    "    "
   ]
  },
  {
   "cell_type": "markdown",
   "id": "37f7822f",
   "metadata": {
    "deletable": false,
    "editable": false,
    "nbgrader": {
     "cell_type": "markdown",
     "checksum": "1bd282445c4b37f5892be16c5c256f28",
     "grade": false,
     "grade_id": "cell-d4efce8110e7ca9f",
     "locked": true,
     "schema_version": 3,
     "solution": false,
     "task": false
    }
   },
   "source": [
    "##### 5.c. predict - OPTIONAL SELF TEST - Implement and Run the following code cell (IF NEEDED):"
   ]
  },
  {
   "cell_type": "code",
   "execution_count": null,
   "id": "7ea6d3e7",
   "metadata": {
    "deletable": false,
    "nbgrader": {
     "cell_type": "code",
     "checksum": "ea6905c02f681fac9fd7414010e73f1d",
     "grade": false,
     "grade_id": "cell-8d65f5e2672c7f35",
     "locked": false,
     "schema_version": 3,
     "solution": true,
     "task": false
    }
   },
   "outputs": [],
   "source": [
    "# 5.c. predict (optional self testing)\n",
    "# ====>>> YOUR ACTIONS: (optional) IMPLEMENT & RUN \n",
    "\n",
    "train_file_name = 'iris_train_set.csv'\n",
    "test_file_name = 'iris_test_set.csv'\n",
    "category_col_name = 'iris_type'\n",
    "student_name, student_id = my_name(), my_id()\n",
    "X_train, y_train = load_dataset(train_file_name, category_col_name)\n",
    "unique_categories = np.sort(np.unique(y_train.values))\n",
    "trainset=X_train.copy(deep=True)\n",
    "trainset[category_col_name]=y_train\n",
    "X_test, y_test = load_dataset(test_file_name, category_col_name)\n",
    "lst_class_priors,df_mean_likelihood,df_std_likelihood = fit(trainset,category_col_name)\n",
    "y_predict=predict(X_test, lst_class_priors, df_mean_likelihood, df_std_likelihood, unique_categories)\n",
    "# --- add additional code to check your code if needed:\n",
    "# YOUR CODE HERE\n"
   ]
  },
  {
   "cell_type": "markdown",
   "id": "9ec00c2d",
   "metadata": {
    "deletable": false,
    "editable": false,
    "nbgrader": {
     "cell_type": "markdown",
     "checksum": "8fa4abded4ec3595d0199d5a8c43a214",
     "grade": false,
     "grade_id": "cell-3d8f4a927cae016f",
     "locked": true,
     "schema_version": 3,
     "solution": false,
     "task": false
    }
   },
   "source": [
    "##### 5.c. predict - GRADED TESTS - Run the following (3) code cells:"
   ]
  },
  {
   "cell_type": "code",
   "execution_count": null,
   "id": "3dc57dc2",
   "metadata": {
    "deletable": false,
    "editable": false,
    "nbgrader": {
     "cell_type": "code",
     "checksum": "388e1da46f8e48cb7a0363903804921b",
     "grade": true,
     "grade_id": "test5c_1-predict",
     "locked": true,
     "points": 1,
     "schema_version": 3,
     "solution": false,
     "task": false
    }
   },
   "outputs": [],
   "source": [
    "# 5.c. predict (graded test)\n",
    "# ====>>> YOUR ACTIONS: RUN ONLY\n",
    "\n",
    "print (\"5.c.'predict' - Test 1 (name: test5c_1-predict, points: 1) - Sanity\")\n",
    "\n",
    "train_file_name = 'iris_train_set.csv'\n",
    "test_file_name = 'iris_test_set.csv'\n",
    "category_col_name = 'iris_type'\n",
    "try:\n",
    "    student_name, student_id = my_name(), my_id()\n",
    "    X_train, y_train = load_dataset(train_file_name, category_col_name)\n",
    "    unique_categories = np.sort(np.unique(y_train.values))\n",
    "    trainset=X_train.copy(deep=True)\n",
    "    trainset[category_col_name]=y_train\n",
    "    X_test, y_test = load_dataset(test_file_name, category_col_name)\n",
    "    lst_class_priors,df_mean_likelihood,df_std_likelihood = fit(trainset,category_col_name)\n",
    "    y_predict=predict(X_test, lst_class_priors, df_mean_likelihood, df_std_likelihood, unique_categories)\n",
    "except Exception as e:\n",
    "    print ('You probably have a syntax or implementation error,  \\nerror Message:',str(e), '\\nTry fixing your code')\n",
    "    raise\n",
    "    \n",
    "print (\"Good Job!\\nYou've passed the 1st test for the 'predict' function implementation :-)\")   "
   ]
  },
  {
   "cell_type": "code",
   "execution_count": null,
   "id": "7f32dc10",
   "metadata": {
    "deletable": false,
    "editable": false,
    "nbgrader": {
     "cell_type": "code",
     "checksum": "bb15041449bf639adacd8c10f9ae9b8c",
     "grade": true,
     "grade_id": "test5c_2-predict",
     "locked": true,
     "points": 5,
     "schema_version": 3,
     "solution": false,
     "task": false
    }
   },
   "outputs": [],
   "source": [
    "# 5.b. calc_aposterior_probs (graded test)\n",
    "# ====>>> YOUR ACTIONS: RUN ONLY\n",
    "\n",
    "print (\"5.c.'predict' - Test 2 (name: test5c_2-predict, points: 5)\")\n",
    "\n",
    "train_file_name = 'iris_train_set.csv'\n",
    "test_file_name = 'iris_test_set.csv'\n",
    "category_col_name = 'iris_type'\n",
    "try:\n",
    "    student_name, student_id = my_name(), my_id()\n",
    "    X_train, y_train = load_dataset(train_file_name, category_col_name)\n",
    "    unique_categories = np.sort(np.unique(y_train.values))\n",
    "    trainset=X_train.copy(deep=True)\n",
    "    trainset[category_col_name]=y_train\n",
    "    X_test, y_test = load_dataset(test_file_name, category_col_name)\n",
    "    lst_class_priors,df_mean_likelihood,df_std_likelihood = fit(trainset,category_col_name)\n",
    "    y_predicted=predict(X_test, lst_class_priors, df_mean_likelihood, df_std_likelihood, unique_categories)\n",
    "except Exception as e:\n",
    "    print ('You probably have a syntax or implementation error,  \\nerror Message:',str(e), '\\nTry fixing your code')\n",
    "    raise\n",
    "    \n",
    "assert y_predicted.shape[0]==y_test.shape[0],'predict should return a series with %d rows' %(y_test.shape[0])\n",
    "np.testing.assert_array_equal(y_predicted.index, y_test.index, 'y_predicted and y_test should have the same index')\n",
    "\n",
    "print (\"Good Job!\\nYou've passed the 2nd test for the 'predict' function implementation :-)\")        "
   ]
  },
  {
   "cell_type": "code",
   "execution_count": null,
   "id": "39572eb6",
   "metadata": {
    "deletable": false,
    "editable": false,
    "nbgrader": {
     "cell_type": "code",
     "checksum": "7cbdee6e1b74774644d0c7d02a4dac8b",
     "grade": true,
     "grade_id": "test5c_3-predict",
     "locked": true,
     "points": 7,
     "schema_version": 3,
     "solution": false,
     "task": false
    }
   },
   "outputs": [],
   "source": [
    "# 5.c. calc_aposterior_probs (graded test)\n",
    "# ====>>> YOUR ACTIONS: RUN ONLY\n",
    "\n",
    "print (\"5.c.'predict' - Test 3 (name: test5c_3-predict, points: 7)\")\n",
    "\n",
    "train_file_name = 'iris_train_set.csv'\n",
    "test_file_name = 'iris_test_set.csv'\n",
    "category_col_name = 'iris_type'\n",
    "try:\n",
    "    student_name, student_id = my_name(), my_id()\n",
    "    X_train, y_train = load_dataset(train_file_name, category_col_name)\n",
    "    unique_categories = np.sort(np.unique(y_train.values))\n",
    "    trainset=X_train.copy(deep=True)\n",
    "    trainset[category_col_name]=y_train\n",
    "    X_test, y_test = load_dataset(test_file_name, category_col_name)\n",
    "    lst_class_priors,df_mean_likelihood,df_std_likelihood = fit(trainset,category_col_name)\n",
    "    y_predicted=predict(X_test, lst_class_priors, df_mean_likelihood, df_std_likelihood, unique_categories)\n",
    "except Exception as e:\n",
    "    print ('You probably have a syntax or implementation error,  \\nerror Message:',str(e), '\\nTry fixing your code')\n",
    "    raise\n",
    "\n",
    "assert y_predicted.iloc[0]==0,'wrong predicted value for 1st value, expects: 0'\n",
    "    \n",
    "print (\"Good Job!\\nYou've passed the 3rd test for the 'predict' function implementation :-)\")        "
   ]
  },
  {
   "cell_type": "code",
   "execution_count": null,
   "id": "97aa1f78",
   "metadata": {
    "deletable": false,
    "editable": false,
    "nbgrader": {
     "cell_type": "code",
     "checksum": "f50c17ad03312a6c5208a428b0ea7feb",
     "grade": true,
     "grade_id": "test5c_4-predict",
     "locked": true,
     "points": 7,
     "schema_version": 3,
     "solution": false,
     "task": false
    }
   },
   "outputs": [],
   "source": [
    "# 5.c. calc_aposterior_probs (graded test)\n",
    "# ====>>> YOUR ACTIONS: RUN ONLY\n",
    "\n",
    "print (\"5.c.'predict' - Test 4 (name: test5c_4-predict, points: 7)\")\n",
    "\n",
    "train_file_name = 'iris_train_set.csv'\n",
    "test_file_name = 'iris_test_set.csv'\n",
    "category_col_name = 'iris_type'\n",
    "try:\n",
    "    student_name, student_id = my_name(), my_id()\n",
    "    X_train, y_train = load_dataset(train_file_name, category_col_name)\n",
    "    unique_categories = np.sort(np.unique(y_train.values))\n",
    "    trainset=X_train.copy(deep=True)\n",
    "    trainset[category_col_name]=y_train\n",
    "    X_test, y_test = load_dataset(test_file_name, category_col_name)\n",
    "    lst_class_priors,df_mean_likelihood,df_std_likelihood = fit(trainset,category_col_name)\n",
    "    y_predicted=predict(X_test, lst_class_priors, df_mean_likelihood, df_std_likelihood, unique_categories)\n",
    "except Exception as e:\n",
    "    print ('You probably have a syntax or implementation error,  \\nerror Message:',str(e), '\\nTry fixing your code')\n",
    "    raise\n",
    "\n",
    "assert y_predicted.iloc[-1]==2,'wrong predicted value for last value, expects: 2'\n",
    "    \n",
    "print (\"Good Job!\\nYou've passed the 4th test for the 'predict' function implementation :-)\")        "
   ]
  },
  {
   "cell_type": "markdown",
   "id": "9afc0ac3",
   "metadata": {
    "deletable": false,
    "editable": false,
    "nbgrader": {
     "cell_type": "markdown",
     "checksum": "87daca4aab3ae16419d8d22df0afe814",
     "grade": false,
     "grade_id": "cell-e7ddf7c7f1df3776",
     "locked": true,
     "schema_version": 3,
     "solution": false,
     "task": false
    }
   },
   "source": [
    "[Go to the beginning of the assignment](#home)\n",
    "<a id=\"calc_error_rate\"></a>\n",
    "### 6. Evaluation (error rate)\n",
    "<u>method name</u>: <b>calc_error_rate</b><br/>\n",
    "\n",
    "------------\n",
    "\n",
    "<u>dependency</u>: <br/>\n",
    "* <b>my_name</b></br> \n",
    "* <b>my_id</b></br> \n",
    "\n",
    "------------\n",
    "\n",
    "<pre>\n",
    "Change the following function to return the error rate (incorrectly predicted ratio).\n",
    "------------\n",
    "input parameter:\n",
    "- y_predicted -  a series of containing predicted class values per test instance\n",
    "- y_test - a series of containing all actual class values per test instance\n",
    "------------\n",
    "return value:\n",
    "- errorRateVal - the error rate value\n",
    "</pre>\n",
    "\n",
    "------------\n",
    "\n",
    "The return statement should look like this:<br/>\n",
    "<code>return errorRateVal</code>"
   ]
  },
  {
   "cell_type": "markdown",
   "id": "dcda93c0",
   "metadata": {
    "deletable": false,
    "editable": false,
    "nbgrader": {
     "cell_type": "markdown",
     "checksum": "17733c5da37e973e31a76338bd091cc9",
     "grade": false,
     "grade_id": "cell-6cd9069ecc534294",
     "locked": true,
     "schema_version": 3,
     "solution": false,
     "task": false
    }
   },
   "source": [
    "##### 6. calc_error_rate - OPTIONAL  ASSISTANCE  - Implement & Run the following cell (IF NEEDED):"
   ]
  },
  {
   "cell_type": "code",
   "execution_count": null,
   "id": "49d80bd3",
   "metadata": {
    "deletable": false,
    "nbgrader": {
     "cell_type": "code",
     "checksum": "91ae4259956e11e59184e0e0eb43efe7",
     "grade": false,
     "grade_id": "cell-8ba28f0677809d45",
     "locked": false,
     "schema_version": 3,
     "solution": true,
     "task": false
    }
   },
   "outputs": [],
   "source": [
    "# 6. calc_error_rate (optional assitance for your solution)\n",
    "# ====>>> YOUR ACTIONS: (optional) IMPLEMENT & RUN \n",
    "\n",
    "# ---- Add assistance code here IF NEEDED:\n",
    "# YOUR CODE HERE\n"
   ]
  },
  {
   "cell_type": "markdown",
   "id": "0fa518b2",
   "metadata": {
    "deletable": false,
    "editable": false,
    "nbgrader": {
     "cell_type": "markdown",
     "checksum": "0a803edfc538d240000f044a14d92ad7",
     "grade": false,
     "grade_id": "cell-ef8f7b2dfa79e869",
     "locked": true,
     "schema_version": 3,
     "solution": false,
     "task": false
    }
   },
   "source": [
    "##### 6. calc_error_rate  - YOUR SOLUTION - Implement and Run the following code cell:"
   ]
  },
  {
   "cell_type": "code",
   "execution_count": null,
   "id": "b46942df",
   "metadata": {
    "deletable": false,
    "nbgrader": {
     "cell_type": "code",
     "checksum": "97ec4e667c0cd06220dee1f381716d48",
     "grade": false,
     "grade_id": "sol6-calc_error_rate",
     "locked": false,
     "schema_version": 3,
     "solution": true,
     "task": false
    }
   },
   "outputs": [],
   "source": [
    "# 6. calc_error_rate (your solution)\n",
    "# ====>>> YOUR ACTIONS: IMPLEMENT & RUN\n",
    "\n",
    "def calc_error_rate(y_predicted,y_test):\n",
    "    # YOUR CODE HERE\n",
    "    "
   ]
  },
  {
   "cell_type": "markdown",
   "id": "78b1fceb",
   "metadata": {
    "deletable": false,
    "editable": false,
    "nbgrader": {
     "cell_type": "markdown",
     "checksum": "ae0a238c9fa337adf4fa3640919ff863",
     "grade": false,
     "grade_id": "cell-faed49db45394d44",
     "locked": true,
     "schema_version": 3,
     "solution": false,
     "task": false
    }
   },
   "source": [
    "##### 6. calc_error_rate - OPTIONAL SELF TEST - Implement and Run the following code cell (IF NEEDED):"
   ]
  },
  {
   "cell_type": "code",
   "execution_count": null,
   "id": "ebbb9c3a",
   "metadata": {
    "deletable": false,
    "nbgrader": {
     "cell_type": "code",
     "checksum": "21bc50322518d5fb8fdd6cc50a2fc4ab",
     "grade": false,
     "grade_id": "cell-caf45242507c06a6",
     "locked": false,
     "schema_version": 3,
     "solution": true,
     "task": false
    }
   },
   "outputs": [],
   "source": [
    "# 6. calc_error_rate (optional self testing)\n",
    "# ====>>> YOUR ACTIONS: (optional) IMPLEMENT & RUN \n",
    "\n",
    "file_name = 'iris_train_set.csv'\n",
    "category_col_name = 'iris_type'\n",
    "student_name, student_id = my_name(), my_id()\n",
    "X, y = load_dataset(file_name, category_col_name)\n",
    "# --- add additional code to check your code if needed:\n",
    "# YOUR CODE HERE\n"
   ]
  },
  {
   "cell_type": "markdown",
   "id": "11e7e4d6",
   "metadata": {
    "deletable": false,
    "editable": false,
    "nbgrader": {
     "cell_type": "markdown",
     "checksum": "0925933a7546b17425ff6cdfd0128663",
     "grade": false,
     "grade_id": "cell-6b9892a5c933cf75",
     "locked": true,
     "schema_version": 3,
     "solution": false,
     "task": false
    }
   },
   "source": [
    "##### 6. calc_error_rate - GRADED TESTS - Run the following (3) code cells:"
   ]
  },
  {
   "cell_type": "code",
   "execution_count": null,
   "id": "bb02ebb7",
   "metadata": {
    "deletable": false,
    "editable": false,
    "nbgrader": {
     "cell_type": "code",
     "checksum": "f7f5341e6910c875ad90a8390db802c0",
     "grade": true,
     "grade_id": "test6_1-calc_error_rate",
     "locked": true,
     "points": 1,
     "schema_version": 3,
     "solution": false,
     "task": false
    }
   },
   "outputs": [],
   "source": [
    "# 6. calc_error_rate (graded test)\n",
    "# ====>>> YOUR ACTIONS: RUN ONLY\n",
    "\n",
    "print (\"6.'calc_error_rate' - Test 1 (name: test6_1-calc_error_rate, points: 1) - Sanity\")\n",
    "\n",
    "try:\n",
    "    student_name, student_id = my_name(), my_id()\n",
    "    y_test     =pd.Series([0,1,1,0,1,0,1,1,1,0])\n",
    "    y_predicted=pd.Series([0,1,0,0,0,0,1,1,1,1])\n",
    "    error_rate = calc_error_rate(y_predicted,y_test)    \n",
    "except Exception as e:\n",
    "    print ('You probably have a syntax or implementation error,  \\nerror Message:',str(e), '\\nTry fixing your code')\n",
    "    raise\n",
    "    \n",
    "print (\"Good Job!\\nYou've passed the 1st test for the 'calc_error_rate' function implementation :-)\")   "
   ]
  },
  {
   "cell_type": "code",
   "execution_count": null,
   "id": "d8d46055",
   "metadata": {
    "deletable": false,
    "editable": false,
    "nbgrader": {
     "cell_type": "code",
     "checksum": "b16cdbbde4e91ee378a8c31bc197a90d",
     "grade": true,
     "grade_id": "test5b_2-calc_error_rate",
     "locked": true,
     "points": 4,
     "schema_version": 3,
     "solution": false,
     "task": false
    }
   },
   "outputs": [],
   "source": [
    "# 6. calc_error_rate (graded test)\n",
    "# ====>>> YOUR ACTIONS: RUN ONLY\n",
    "\n",
    "print (\"6.'predict' - Test 2 (name: test5b_2-calc_error_rate, points: 4)\")\n",
    "\n",
    "try:\n",
    "    student_name, student_id = my_name(), my_id()\n",
    "    y_test     =pd.Series([0,1,1,0,1,0,1,1,1,0])\n",
    "    y_predicted=pd.Series([0,1,0,0,0,0,1,1,1,1])\n",
    "    error_rate = calc_error_rate(y_predicted,y_test)  \n",
    "except Exception as e:\n",
    "    print ('You probably have a syntax or implementation error,  \\nerror Message:',str(e), '\\nTry fixing your code')\n",
    "    raise\n",
    "\n",
    "assert np.round(error_rate,2)==0.3,'Wrong error rate for test set'\n",
    "\n",
    "print (\"Good Job!\\nYou've passed the 2nd test for the 'calc_error_rate' function implementation :-)\")        "
   ]
  },
  {
   "cell_type": "code",
   "execution_count": null,
   "id": "4a418354",
   "metadata": {
    "deletable": false,
    "editable": false,
    "nbgrader": {
     "cell_type": "code",
     "checksum": "a03f3796764ef9ab3569d41251d19f93",
     "grade": true,
     "grade_id": "test5b_3-calc_error_rate",
     "locked": true,
     "points": 5,
     "schema_version": 3,
     "solution": false,
     "task": false
    }
   },
   "outputs": [],
   "source": [
    "# 6. calc_error_rate (graded test)\n",
    "# ====>>> YOUR ACTIONS: RUN ONLY\n",
    "\n",
    "print (\"6.'predict' - Test 3 (name: test5b_3-calc_error_rate, points: 5)\")\n",
    "\n",
    "\n",
    "train_file_name = 'iris_train_set.csv'\n",
    "test_file_name = 'iris_test_set.csv'\n",
    "category_col_name = 'iris_type'\n",
    "try:\n",
    "    student_name, student_id = my_name(), my_id()\n",
    "    X_train, y_train = load_dataset(train_file_name, category_col_name)\n",
    "    unique_categories = np.sort(np.unique(y_train.values))\n",
    "    trainset=X_train.copy(deep=True)\n",
    "    trainset[category_col_name]=y_train\n",
    "    X_test, y_test = load_dataset(test_file_name, category_col_name)\n",
    "    lst_class_priors,df_mean_likelihood,df_std_likelihood = fit(trainset,category_col_name)\n",
    "    y_predicted=predict(X_test, lst_class_priors, df_mean_likelihood, df_std_likelihood, unique_categories)\n",
    "    error_rate = calc_error_rate(y_predicted,y_test)\n",
    "except Exception as e:\n",
    "    print ('You probably have a syntax or implementation error,  \\nerror Message:',str(e), '\\nTry fixing your code')\n",
    "    raise\n",
    "\n",
    "assert np.round(error_rate,2)==0.0,'Wrong error rate for test set'\n",
    "\n",
    "print (\"Good Job!\\nYou've passed the 3rd test for the 'calc_error_rate' function implementation :-)\")        "
   ]
  },
  {
   "cell_type": "code",
   "execution_count": null,
   "id": "e87fd04c",
   "metadata": {},
   "outputs": [],
   "source": []
  }
 ],
 "metadata": {
  "kernelspec": {
   "display_name": "Python 3 (ipykernel)",
   "language": "python",
   "name": "python3"
  },
  "language_info": {
   "codemirror_mode": {
    "name": "ipython",
    "version": 3
   },
   "file_extension": ".py",
   "mimetype": "text/x-python",
   "name": "python",
   "nbconvert_exporter": "python",
   "pygments_lexer": "ipython3",
   "version": "3.9.13"
  }
 },
 "nbformat": 4,
 "nbformat_minor": 5
}
